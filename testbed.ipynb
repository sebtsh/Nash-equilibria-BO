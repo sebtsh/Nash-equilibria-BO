{
 "cells": [
  {
   "cell_type": "code",
   "execution_count": null,
   "id": "42b70ae8",
   "metadata": {},
   "outputs": [],
   "source": [
    "import numpy as np\n",
    "import tensorflow as tf\n",
    "import gpflow as gpf\n",
    "import matplotlib.pyplot as plt\n",
    "from core.objectives import sample_GP_prior_utilities"
   ]
  },
  {
   "cell_type": "code",
   "execution_count": null,
   "id": "ba8d5551",
   "metadata": {},
   "outputs": [],
   "source": [
    "seed = 0\n",
    "rng = np.random.default_rng(seed)\n",
    "tf.random.set_seed(seed)\n",
    "kernel = gpf.kernels.SquaredExponential(lengthscales=[0.1, 0.1])\n",
    "lowers = [0., 0.]\n",
    "uppers = [1., 1.]\n",
    "num_agents = 2\n",
    "num_actions = 5"
   ]
  },
  {
   "cell_type": "code",
   "execution_count": null,
   "id": "9ac1690b",
   "metadata": {},
   "outputs": [],
   "source": [
    "u = sample_GP_prior_utilities(num_agents,\n",
    "                              kernel,\n",
    "                              lowers,\n",
    "                              uppers,\n",
    "                              num_points=100,\n",
    "                              rng=rng)"
   ]
  },
  {
   "cell_type": "code",
   "execution_count": null,
   "id": "8e41a9e2",
   "metadata": {},
   "outputs": [],
   "source": [
    "from core.utils import combinations\n",
    "from pathlib import Path\n",
    "\n",
    "def plot_utilities_2d(u,\n",
    "                      xlims,\n",
    "                      ylims,\n",
    "                      num_actions,\n",
    "                      title=\"\",\n",
    "                      cmap=\"Spectral\",\n",
    "                      save=False,\n",
    "                      save_dir=\"\",\n",
    "                      filename=\"\",\n",
    "                      show_plot=True):\n",
    "    xmin, xmax = xlims\n",
    "    ymin, ymax = ylims\n",
    "    xdomain = np.linspace(xmin, xmax, num_actions)[:, None]\n",
    "    ydomain = np.linspace(ymin, ymax, num_actions)[:, None]\n",
    "    combs = combinations(xdomain, ydomain)\n",
    "    xlabel = 'Agent 1 actions'\n",
    "    ylabel = 'Agent 2 actions'\n",
    "\n",
    "    u1_vals = u[0](combs)\n",
    "    u1_reshaped = np.transpose(\n",
    "        np.reshape(u1_vals, [num_actions, num_actions]))\n",
    "    u2_vals = u[1](combs)\n",
    "    u2_reshaped = np.transpose(\n",
    "        np.reshape(u2_vals, [num_actions, num_actions]))\n",
    "\n",
    "    fig, (ax1, ax2) = plt.subplots(1, 2)\n",
    "    fig.suptitle(title, size=20)\n",
    "    fig.set_size_inches(8, 4)\n",
    "    fig.set_dpi(200)\n",
    "\n",
    "    im1 = ax1.imshow(u1_reshaped,\n",
    "                     interpolation='nearest',\n",
    "                     extent=(xmin, xmax, ymin, ymax),\n",
    "                     origin='lower',\n",
    "                     cmap=cmap,\n",
    "                     aspect=(xmax - xmin) / (ymax - ymin))\n",
    "    # ax1.plot(inputs[:, 0], inputs[:, 1], 'ko', mew=2)\n",
    "    # ax1.plot(*mean_stationary, marker='*', markersize=20, color='white')\n",
    "    ax1.set_title(\"Agent 1 utility\", size=16)\n",
    "    ax1.set_xlabel(xlabel, size=12)\n",
    "    ax1.set_ylabel(ylabel, size=12)\n",
    "    fig.colorbar(im1, ax=ax1)\n",
    "\n",
    "    im2 = ax2.imshow(u2_reshaped,\n",
    "                     interpolation='nearest',\n",
    "                     extent=(xmin, xmax, ymin, ymax),\n",
    "                     origin='lower',\n",
    "                     cmap=cmap,\n",
    "                     aspect=(xmax - xmin) / (ymax - ymin))\n",
    "    # ax2.plot(inputs[:, 0], inputs[:, 1], 'ko', mew=2)\n",
    "    # ax2.plot(*f_std_argmin, marker='*', markersize=20, color='white')\n",
    "    ax2.set_title(\"Agent 2 utility\", size=16)\n",
    "    ax2.set_xlabel(xlabel, size=12)\n",
    "    ax2.set_ylabel(ylabel, size=12)\n",
    "    fig.colorbar(im2, ax=ax2)\n",
    "    fig.tight_layout()\n",
    "\n",
    "    if save:\n",
    "        Path(save_dir).mkdir(parents=True, exist_ok=True)\n",
    "        plt.savefig(save_dir + filename, bbox_inches='tight')\n",
    "\n",
    "    if show_plot:\n",
    "        plt.show()"
   ]
  },
  {
   "cell_type": "code",
   "execution_count": null,
   "id": "34e9332d",
   "metadata": {
    "scrolled": false
   },
   "outputs": [],
   "source": [
    "plot_utilities_2d(u,\n",
    "                  (lowers[0], uppers[0]),\n",
    "                  (lowers[1], uppers[1]),\n",
    "                  num_actions)"
   ]
  },
  {
   "cell_type": "code",
   "execution_count": null,
   "id": "1426b6c1",
   "metadata": {},
   "outputs": [],
   "source": [
    "xmin, xmax = 0, 1\n",
    "ymin, ymax = 0, 1\n",
    "xdomain = np.linspace(xmin, xmax, num_actions)[:, None]\n",
    "ydomain = np.linspace(ymin, ymax, num_actions)[:, None]\n",
    "combs = combinations(xdomain, ydomain)"
   ]
  },
  {
   "cell_type": "code",
   "execution_count": null,
   "id": "9074b2cc",
   "metadata": {},
   "outputs": [],
   "source": [
    "u[0](combs)"
   ]
  },
  {
   "cell_type": "code",
   "execution_count": null,
   "id": "cf548b35",
   "metadata": {},
   "outputs": [],
   "source": [
    "u[1](combs)"
   ]
  },
  {
   "cell_type": "code",
   "execution_count": null,
   "id": "9a4db50c",
   "metadata": {},
   "outputs": [],
   "source": []
  },
  {
   "cell_type": "code",
   "execution_count": null,
   "id": "27b37e23",
   "metadata": {},
   "outputs": [],
   "source": []
  }
 ],
 "metadata": {
  "kernelspec": {
   "display_name": "Python 3 (ipykernel)",
   "language": "python",
   "name": "python3"
  },
  "language_info": {
   "codemirror_mode": {
    "name": "ipython",
    "version": 3
   },
   "file_extension": ".py",
   "mimetype": "text/x-python",
   "name": "python",
   "nbconvert_exporter": "python",
   "pygments_lexer": "ipython3",
   "version": "3.7.11"
  }
 },
 "nbformat": 4,
 "nbformat_minor": 5
}
