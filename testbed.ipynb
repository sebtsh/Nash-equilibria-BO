{
 "cells": [
  {
   "cell_type": "code",
   "execution_count": 1,
   "id": "94a46532",
   "metadata": {
    "pycharm": {
     "name": "#%%\n"
    }
   },
   "outputs": [],
   "source": [
    "import numpy as np\n",
    "import tensorflow as tf\n",
    "import gpflow as gpf\n",
    "import matplotlib.pyplot as plt\n",
    "import pickle\n",
    "from tqdm import trange"
   ]
  },
  {
   "cell_type": "code",
   "execution_count": 2,
   "outputs": [],
   "source": [
    "dir = \"results/mne/\""
   ],
   "metadata": {
    "collapsed": false,
    "pycharm": {
     "name": "#%%\n"
    }
   }
  },
  {
   "cell_type": "code",
   "execution_count": 3,
   "outputs": [],
   "source": [
    "U1, U2 = pickle.load(open(dir + \"U1U2\", \"rb\"))"
   ],
   "metadata": {
    "collapsed": false,
    "pycharm": {
     "name": "#%%\n"
    }
   }
  },
  {
   "cell_type": "code",
   "execution_count": 18,
   "outputs": [
    {
     "data": {
      "text/plain": "array([[ 1.34615049,  1.87919489,  2.11120926,  2.05406279,  1.78458975,\n         1.40928679,  0.95464418,  0.32788091],\n       [ 1.16966618,  1.5649613 ,  1.68856629,  1.54591775,  1.22194185,\n         0.86648388,  0.55861341,  0.20601855],\n       [ 0.77398919,  1.01124269,  1.0873742 ,  0.98188673,  0.73236432,\n         0.47241804,  0.31712937,  0.21630155],\n       [ 0.36185475,  0.41858471,  0.46787878,  0.47937659,  0.41100522,\n         0.31115691,  0.27761329,  0.3139976 ],\n       [ 0.10318173, -0.01800742, -0.02420307,  0.08939917,  0.21828878,\n         0.29124222,  0.32876274,  0.3635137 ],\n       [ 0.02027297, -0.20249028, -0.26612609, -0.10063512,  0.16838585,\n         0.36307983,  0.40127045,  0.31637054],\n       [ 0.05762274, -0.12384503, -0.16908886,  0.03472215,  0.36133321,\n         0.57026599,  0.5112176 ,  0.22674092],\n       [ 0.14703025,  0.12854578,  0.20524888,  0.46975612,  0.78106533,\n         0.8858744 ,  0.64243135,  0.14514885]])"
     },
     "execution_count": 18,
     "metadata": {},
     "output_type": "execute_result"
    }
   ],
   "source": [
    "U1"
   ],
   "metadata": {
    "collapsed": false,
    "pycharm": {
     "name": "#%%\n"
    }
   }
  },
  {
   "cell_type": "code",
   "execution_count": 5,
   "outputs": [
    {
     "data": {
      "text/plain": "array([[-0.05009307, -0.06838208,  0.30482159,  0.91954104,  1.40177595,\n         1.4264046 ,  1.00936397,  0.52469862],\n       [-0.2714978 , -0.25850543,  0.17387522,  0.82253657,  1.27944209,\n         1.22064669,  0.70061624,  0.15683197],\n       [-0.30115769, -0.24207241,  0.1961197 ,  0.77770764,  1.11628079,\n         0.94599648,  0.37569008, -0.13283079],\n       [-0.19392611, -0.0342077 ,  0.41223215,  0.88249044,  1.04649304,\n         0.73892178,  0.13691254, -0.30315241],\n       [-0.07284271,  0.23072198,  0.70476974,  1.058959  ,  1.03404068,\n         0.58289666, -0.05200213, -0.44825596],\n       [-0.04609261,  0.40093161,  0.91003268,  1.1669523 ,  0.98192291,\n         0.41770171, -0.23980807, -0.63121686],\n       [-0.17714469,  0.37333153,  0.91654643,  1.12215943,  0.85155115,\n         0.24520124, -0.39678743, -0.7940869 ],\n       [-0.47627691,  0.11070191,  0.67974123,  0.89583841,  0.63981358,\n         0.08134611, -0.49006349, -0.86443434]])"
     },
     "execution_count": 5,
     "metadata": {},
     "output_type": "execute_result"
    }
   ],
   "source": [
    "U2"
   ],
   "metadata": {
    "collapsed": false,
    "pycharm": {
     "name": "#%%\n"
    }
   }
  },
  {
   "cell_type": "code",
   "execution_count": 6,
   "outputs": [],
   "source": [
    "U1, U2 = pickle.load(open(dir + \"U1U2\", \"rb\"))\n",
    "U1upper, U1lower, U2upper, U2lower = pickle.load(open(dir + \"U1U2bounds\", \"rb\"))"
   ],
   "metadata": {
    "collapsed": false,
    "pycharm": {
     "name": "#%%\n"
    }
   }
  },
  {
   "cell_type": "code",
   "execution_count": 7,
   "outputs": [],
   "source": [
    "from core.mne import SEM, SEM_var_utility, get_strategies_and_support, neg_brp_mixed"
   ],
   "metadata": {
    "collapsed": false,
    "pycharm": {
     "name": "#%%\n"
    }
   }
  },
  {
   "cell_type": "code",
   "execution_count": 8,
   "outputs": [],
   "source": [
    "res = SEM(U1, U2)"
   ],
   "metadata": {
    "collapsed": false,
    "pycharm": {
     "name": "#%%\n"
    }
   }
  },
  {
   "cell_type": "code",
   "execution_count": 9,
   "outputs": [],
   "source": [
    "s, supp = get_strategies_and_support(res[0], 8, 8)"
   ],
   "metadata": {
    "collapsed": false,
    "pycharm": {
     "name": "#%%\n"
    }
   }
  },
  {
   "cell_type": "code",
   "execution_count": 10,
   "outputs": [
    {
     "data": {
      "text/plain": "(2.220446049250313e-16, -2.220446049250313e-16)"
     },
     "execution_count": 10,
     "metadata": {},
     "output_type": "execute_result"
    }
   ],
   "source": [
    "neg_brp_mixed(U1, U2, s)"
   ],
   "metadata": {
    "collapsed": false,
    "pycharm": {
     "name": "#%%\n"
    }
   }
  },
  {
   "cell_type": "code",
   "execution_count": 11,
   "outputs": [
    {
     "name": "stderr",
     "output_type": "stream",
     "text": [
      "  0%|          | 0/20 [00:00<?, ?it/s]C:\\Users\\seb\\.conda\\envs\\nashbo\\lib\\site-packages\\scipy\\optimize\\_numdiff.py:579: RuntimeWarning: invalid value encountered in true_divide\n",
      "  J_transposed[i] = df / dx\n",
      "  5%|▌         | 1/20 [00:01<00:24,  1.29s/it]"
     ]
    },
    {
     "name": "stdout",
     "output_type": "stream",
     "text": [
      "tgs failed for s1:[0 1 2] s2:[0 1 2]\n",
      "SEM_var_utility failed\n",
      "U1upper:[[ 0.  1. -1.]\n",
      " [-1.  0.  1.]\n",
      " [ 1. -1.  0.]]\n",
      "U1lower:[[ 0.  1. -1.]\n",
      " [-1.  0.  1.]\n",
      " [ 1. -1.  0.]]\n",
      "U2upper:[[ 0. -1.  1.]\n",
      " [ 1.  0. -1.]\n",
      " [-1.  1.  0.]]\n",
      "U2lower:[[ 0. -1.  1.]\n",
      " [ 1.  0. -1.]\n",
      " [-1.  1.  0.]]\n",
      "(array([0], dtype=int64), array([5], dtype=int64))\n"
     ]
    },
    {
     "name": "stderr",
     "output_type": "stream",
     "text": [
      " 10%|█         | 2/20 [00:02<00:22,  1.27s/it]"
     ]
    },
    {
     "name": "stdout",
     "output_type": "stream",
     "text": [
      "tgs failed for s1:[0 1 2] s2:[0 1 2]\n",
      "SEM_var_utility failed\n",
      "U1upper:[[ 0.  1. -1.]\n",
      " [-1.  0.  1.]\n",
      " [ 1. -1.  0.]]\n",
      "U1lower:[[ 0.  1. -1.]\n",
      " [-1.  0.  1.]\n",
      " [ 1. -1.  0.]]\n",
      "U2upper:[[ 0. -1.  1.]\n",
      " [ 1.  0. -1.]\n",
      " [-1.  1.  0.]]\n",
      "U2lower:[[ 0. -1.  1.]\n",
      " [ 1.  0. -1.]\n",
      " [-1.  1.  0.]]\n",
      "(array([0], dtype=int64), array([5], dtype=int64))\n"
     ]
    },
    {
     "name": "stderr",
     "output_type": "stream",
     "text": [
      " 15%|█▌        | 3/20 [00:03<00:21,  1.27s/it]"
     ]
    },
    {
     "name": "stdout",
     "output_type": "stream",
     "text": [
      "tgs failed for s1:[0 1 2] s2:[0 1 2]\n",
      "SEM_var_utility failed\n",
      "U1upper:[[ 0.  1. -1.]\n",
      " [-1.  0.  1.]\n",
      " [ 1. -1.  0.]]\n",
      "U1lower:[[ 0.  1. -1.]\n",
      " [-1.  0.  1.]\n",
      " [ 1. -1.  0.]]\n",
      "U2upper:[[ 0. -1.  1.]\n",
      " [ 1.  0. -1.]\n",
      " [-1.  1.  0.]]\n",
      "U2lower:[[ 0. -1.  1.]\n",
      " [ 1.  0. -1.]\n",
      " [-1.  1.  0.]]\n",
      "(array([0], dtype=int64), array([5], dtype=int64))\n"
     ]
    },
    {
     "name": "stderr",
     "output_type": "stream",
     "text": [
      " 20%|██        | 4/20 [00:05<00:20,  1.26s/it]"
     ]
    },
    {
     "name": "stdout",
     "output_type": "stream",
     "text": [
      "tgs failed for s1:[0 1 2] s2:[0 1 2]\n",
      "SEM_var_utility failed\n",
      "U1upper:[[ 0.  1. -1.]\n",
      " [-1.  0.  1.]\n",
      " [ 1. -1.  0.]]\n",
      "U1lower:[[ 0.  1. -1.]\n",
      " [-1.  0.  1.]\n",
      " [ 1. -1.  0.]]\n",
      "U2upper:[[ 0. -1.  1.]\n",
      " [ 1.  0. -1.]\n",
      " [-1.  1.  0.]]\n",
      "U2lower:[[ 0. -1.  1.]\n",
      " [ 1.  0. -1.]\n",
      " [-1.  1.  0.]]\n",
      "(array([0], dtype=int64), array([5], dtype=int64))\n"
     ]
    },
    {
     "name": "stderr",
     "output_type": "stream",
     "text": [
      " 25%|██▌       | 5/20 [00:06<00:18,  1.26s/it]"
     ]
    },
    {
     "name": "stdout",
     "output_type": "stream",
     "text": [
      "tgs failed for s1:[0 1 2] s2:[0 1 2]\n",
      "SEM_var_utility failed\n",
      "U1upper:[[ 0.  1. -1.]\n",
      " [-1.  0.  1.]\n",
      " [ 1. -1.  0.]]\n",
      "U1lower:[[ 0.  1. -1.]\n",
      " [-1.  0.  1.]\n",
      " [ 1. -1.  0.]]\n",
      "U2upper:[[ 0. -1.  1.]\n",
      " [ 1.  0. -1.]\n",
      " [-1.  1.  0.]]\n",
      "U2lower:[[ 0. -1.  1.]\n",
      " [ 1.  0. -1.]\n",
      " [-1.  1.  0.]]\n",
      "(array([0], dtype=int64), array([5], dtype=int64))\n"
     ]
    },
    {
     "name": "stderr",
     "output_type": "stream",
     "text": [
      " 30%|███       | 6/20 [00:07<00:17,  1.26s/it]"
     ]
    },
    {
     "name": "stdout",
     "output_type": "stream",
     "text": [
      "tgs failed for s1:[0 1 2] s2:[0 1 2]\n",
      "SEM_var_utility failed\n",
      "U1upper:[[ 0.  1. -1.]\n",
      " [-1.  0.  1.]\n",
      " [ 1. -1.  0.]]\n",
      "U1lower:[[ 0.  1. -1.]\n",
      " [-1.  0.  1.]\n",
      " [ 1. -1.  0.]]\n",
      "U2upper:[[ 0. -1.  1.]\n",
      " [ 1.  0. -1.]\n",
      " [-1.  1.  0.]]\n",
      "U2lower:[[ 0. -1.  1.]\n",
      " [ 1.  0. -1.]\n",
      " [-1.  1.  0.]]\n",
      "(array([0], dtype=int64), array([5], dtype=int64))\n"
     ]
    },
    {
     "name": "stderr",
     "output_type": "stream",
     "text": [
      " 35%|███▌      | 7/20 [00:08<00:16,  1.27s/it]"
     ]
    },
    {
     "name": "stdout",
     "output_type": "stream",
     "text": [
      "tgs failed for s1:[0 1 2] s2:[0 1 2]\n",
      "SEM_var_utility failed\n",
      "U1upper:[[ 0.  1. -1.]\n",
      " [-1.  0.  1.]\n",
      " [ 1. -1.  0.]]\n",
      "U1lower:[[ 0.  1. -1.]\n",
      " [-1.  0.  1.]\n",
      " [ 1. -1.  0.]]\n",
      "U2upper:[[ 0. -1.  1.]\n",
      " [ 1.  0. -1.]\n",
      " [-1.  1.  0.]]\n",
      "U2lower:[[ 0. -1.  1.]\n",
      " [ 1.  0. -1.]\n",
      " [-1.  1.  0.]]\n",
      "(array([0], dtype=int64), array([5], dtype=int64))\n"
     ]
    },
    {
     "name": "stderr",
     "output_type": "stream",
     "text": [
      " 40%|████      | 8/20 [00:10<00:15,  1.27s/it]"
     ]
    },
    {
     "name": "stdout",
     "output_type": "stream",
     "text": [
      "tgs failed for s1:[0 1 2] s2:[0 1 2]\n",
      "SEM_var_utility failed\n",
      "U1upper:[[ 0.  1. -1.]\n",
      " [-1.  0.  1.]\n",
      " [ 1. -1.  0.]]\n",
      "U1lower:[[ 0.  1. -1.]\n",
      " [-1.  0.  1.]\n",
      " [ 1. -1.  0.]]\n",
      "U2upper:[[ 0. -1.  1.]\n",
      " [ 1.  0. -1.]\n",
      " [-1.  1.  0.]]\n",
      "U2lower:[[ 0. -1.  1.]\n",
      " [ 1.  0. -1.]\n",
      " [-1.  1.  0.]]\n",
      "(array([0], dtype=int64), array([5], dtype=int64))\n"
     ]
    },
    {
     "name": "stderr",
     "output_type": "stream",
     "text": [
      " 45%|████▌     | 9/20 [00:11<00:13,  1.26s/it]"
     ]
    },
    {
     "name": "stdout",
     "output_type": "stream",
     "text": [
      "tgs failed for s1:[0 1 2] s2:[0 1 2]\n",
      "SEM_var_utility failed\n",
      "U1upper:[[ 0.  1. -1.]\n",
      " [-1.  0.  1.]\n",
      " [ 1. -1.  0.]]\n",
      "U1lower:[[ 0.  1. -1.]\n",
      " [-1.  0.  1.]\n",
      " [ 1. -1.  0.]]\n",
      "U2upper:[[ 0. -1.  1.]\n",
      " [ 1.  0. -1.]\n",
      " [-1.  1.  0.]]\n",
      "U2lower:[[ 0. -1.  1.]\n",
      " [ 1.  0. -1.]\n",
      " [-1.  1.  0.]]\n",
      "(array([0], dtype=int64), array([5], dtype=int64))\n"
     ]
    },
    {
     "name": "stderr",
     "output_type": "stream",
     "text": [
      " 50%|█████     | 10/20 [00:12<00:12,  1.26s/it]"
     ]
    },
    {
     "name": "stdout",
     "output_type": "stream",
     "text": [
      "tgs failed for s1:[0 1 2] s2:[0 1 2]\n",
      "SEM_var_utility failed\n",
      "U1upper:[[ 0.  1. -1.]\n",
      " [-1.  0.  1.]\n",
      " [ 1. -1.  0.]]\n",
      "U1lower:[[ 0.  1. -1.]\n",
      " [-1.  0.  1.]\n",
      " [ 1. -1.  0.]]\n",
      "U2upper:[[ 0. -1.  1.]\n",
      " [ 1.  0. -1.]\n",
      " [-1.  1.  0.]]\n",
      "U2lower:[[ 0. -1.  1.]\n",
      " [ 1.  0. -1.]\n",
      " [-1.  1.  0.]]\n",
      "(array([0], dtype=int64), array([5], dtype=int64))\n"
     ]
    },
    {
     "name": "stderr",
     "output_type": "stream",
     "text": [
      " 55%|█████▌    | 11/20 [00:13<00:11,  1.26s/it]"
     ]
    },
    {
     "name": "stdout",
     "output_type": "stream",
     "text": [
      "tgs failed for s1:[0 1 2] s2:[0 1 2]\n",
      "SEM_var_utility failed\n",
      "U1upper:[[ 0.  1. -1.]\n",
      " [-1.  0.  1.]\n",
      " [ 1. -1.  0.]]\n",
      "U1lower:[[ 0.  1. -1.]\n",
      " [-1.  0.  1.]\n",
      " [ 1. -1.  0.]]\n",
      "U2upper:[[ 0. -1.  1.]\n",
      " [ 1.  0. -1.]\n",
      " [-1.  1.  0.]]\n",
      "U2lower:[[ 0. -1.  1.]\n",
      " [ 1.  0. -1.]\n",
      " [-1.  1.  0.]]\n",
      "(array([0], dtype=int64), array([5], dtype=int64))\n"
     ]
    },
    {
     "name": "stderr",
     "output_type": "stream",
     "text": [
      " 60%|██████    | 12/20 [00:15<00:10,  1.26s/it]"
     ]
    },
    {
     "name": "stdout",
     "output_type": "stream",
     "text": [
      "tgs failed for s1:[0 1 2] s2:[0 1 2]\n",
      "SEM_var_utility failed\n",
      "U1upper:[[ 0.  1. -1.]\n",
      " [-1.  0.  1.]\n",
      " [ 1. -1.  0.]]\n",
      "U1lower:[[ 0.  1. -1.]\n",
      " [-1.  0.  1.]\n",
      " [ 1. -1.  0.]]\n",
      "U2upper:[[ 0. -1.  1.]\n",
      " [ 1.  0. -1.]\n",
      " [-1.  1.  0.]]\n",
      "U2lower:[[ 0. -1.  1.]\n",
      " [ 1.  0. -1.]\n",
      " [-1.  1.  0.]]\n",
      "(array([0], dtype=int64), array([5], dtype=int64))\n"
     ]
    },
    {
     "name": "stderr",
     "output_type": "stream",
     "text": [
      " 65%|██████▌   | 13/20 [00:16<00:08,  1.26s/it]"
     ]
    },
    {
     "name": "stdout",
     "output_type": "stream",
     "text": [
      "tgs failed for s1:[0 1 2] s2:[0 1 2]\n",
      "SEM_var_utility failed\n",
      "U1upper:[[ 0.  1. -1.]\n",
      " [-1.  0.  1.]\n",
      " [ 1. -1.  0.]]\n",
      "U1lower:[[ 0.  1. -1.]\n",
      " [-1.  0.  1.]\n",
      " [ 1. -1.  0.]]\n",
      "U2upper:[[ 0. -1.  1.]\n",
      " [ 1.  0. -1.]\n",
      " [-1.  1.  0.]]\n",
      "U2lower:[[ 0. -1.  1.]\n",
      " [ 1.  0. -1.]\n",
      " [-1.  1.  0.]]\n",
      "(array([0], dtype=int64), array([5], dtype=int64))\n"
     ]
    },
    {
     "name": "stderr",
     "output_type": "stream",
     "text": [
      " 70%|███████   | 14/20 [00:17<00:07,  1.26s/it]"
     ]
    },
    {
     "name": "stdout",
     "output_type": "stream",
     "text": [
      "tgs failed for s1:[0 1 2] s2:[0 1 2]\n",
      "SEM_var_utility failed\n",
      "U1upper:[[ 0.  1. -1.]\n",
      " [-1.  0.  1.]\n",
      " [ 1. -1.  0.]]\n",
      "U1lower:[[ 0.  1. -1.]\n",
      " [-1.  0.  1.]\n",
      " [ 1. -1.  0.]]\n",
      "U2upper:[[ 0. -1.  1.]\n",
      " [ 1.  0. -1.]\n",
      " [-1.  1.  0.]]\n",
      "U2lower:[[ 0. -1.  1.]\n",
      " [ 1.  0. -1.]\n",
      " [-1.  1.  0.]]\n",
      "(array([0], dtype=int64), array([5], dtype=int64))\n"
     ]
    },
    {
     "name": "stderr",
     "output_type": "stream",
     "text": [
      " 75%|███████▌  | 15/20 [00:18<00:06,  1.26s/it]"
     ]
    },
    {
     "name": "stdout",
     "output_type": "stream",
     "text": [
      "tgs failed for s1:[0 1 2] s2:[0 1 2]\n",
      "SEM_var_utility failed\n",
      "U1upper:[[ 0.  1. -1.]\n",
      " [-1.  0.  1.]\n",
      " [ 1. -1.  0.]]\n",
      "U1lower:[[ 0.  1. -1.]\n",
      " [-1.  0.  1.]\n",
      " [ 1. -1.  0.]]\n",
      "U2upper:[[ 0. -1.  1.]\n",
      " [ 1.  0. -1.]\n",
      " [-1.  1.  0.]]\n",
      "U2lower:[[ 0. -1.  1.]\n",
      " [ 1.  0. -1.]\n",
      " [-1.  1.  0.]]\n",
      "(array([0], dtype=int64), array([5], dtype=int64))\n"
     ]
    },
    {
     "name": "stderr",
     "output_type": "stream",
     "text": [
      " 80%|████████  | 16/20 [00:20<00:05,  1.26s/it]"
     ]
    },
    {
     "name": "stdout",
     "output_type": "stream",
     "text": [
      "tgs failed for s1:[0 1 2] s2:[0 1 2]\n",
      "SEM_var_utility failed\n",
      "U1upper:[[ 0.  1. -1.]\n",
      " [-1.  0.  1.]\n",
      " [ 1. -1.  0.]]\n",
      "U1lower:[[ 0.  1. -1.]\n",
      " [-1.  0.  1.]\n",
      " [ 1. -1.  0.]]\n",
      "U2upper:[[ 0. -1.  1.]\n",
      " [ 1.  0. -1.]\n",
      " [-1.  1.  0.]]\n",
      "U2lower:[[ 0. -1.  1.]\n",
      " [ 1.  0. -1.]\n",
      " [-1.  1.  0.]]\n",
      "(array([0], dtype=int64), array([5], dtype=int64))\n"
     ]
    },
    {
     "name": "stderr",
     "output_type": "stream",
     "text": [
      " 85%|████████▌ | 17/20 [00:21<00:03,  1.27s/it]"
     ]
    },
    {
     "name": "stdout",
     "output_type": "stream",
     "text": [
      "tgs failed for s1:[0 1 2] s2:[0 1 2]\n",
      "SEM_var_utility failed\n",
      "U1upper:[[ 0.  1. -1.]\n",
      " [-1.  0.  1.]\n",
      " [ 1. -1.  0.]]\n",
      "U1lower:[[ 0.  1. -1.]\n",
      " [-1.  0.  1.]\n",
      " [ 1. -1.  0.]]\n",
      "U2upper:[[ 0. -1.  1.]\n",
      " [ 1.  0. -1.]\n",
      " [-1.  1.  0.]]\n",
      "U2lower:[[ 0. -1.  1.]\n",
      " [ 1.  0. -1.]\n",
      " [-1.  1.  0.]]\n",
      "(array([0], dtype=int64), array([5], dtype=int64))\n"
     ]
    },
    {
     "name": "stderr",
     "output_type": "stream",
     "text": [
      " 90%|█████████ | 18/20 [00:22<00:02,  1.27s/it]"
     ]
    },
    {
     "name": "stdout",
     "output_type": "stream",
     "text": [
      "tgs failed for s1:[0 1 2] s2:[0 1 2]\n",
      "SEM_var_utility failed\n",
      "U1upper:[[ 0.  1. -1.]\n",
      " [-1.  0.  1.]\n",
      " [ 1. -1.  0.]]\n",
      "U1lower:[[ 0.  1. -1.]\n",
      " [-1.  0.  1.]\n",
      " [ 1. -1.  0.]]\n",
      "U2upper:[[ 0. -1.  1.]\n",
      " [ 1.  0. -1.]\n",
      " [-1.  1.  0.]]\n",
      "U2lower:[[ 0. -1.  1.]\n",
      " [ 1.  0. -1.]\n",
      " [-1.  1.  0.]]\n",
      "(array([0], dtype=int64), array([5], dtype=int64))\n"
     ]
    },
    {
     "name": "stderr",
     "output_type": "stream",
     "text": [
      " 95%|█████████▌| 19/20 [00:24<00:01,  1.26s/it]"
     ]
    },
    {
     "name": "stdout",
     "output_type": "stream",
     "text": [
      "tgs failed for s1:[0 1 2] s2:[0 1 2]\n",
      "SEM_var_utility failed\n",
      "U1upper:[[ 0.  1. -1.]\n",
      " [-1.  0.  1.]\n",
      " [ 1. -1.  0.]]\n",
      "U1lower:[[ 0.  1. -1.]\n",
      " [-1.  0.  1.]\n",
      " [ 1. -1.  0.]]\n",
      "U2upper:[[ 0. -1.  1.]\n",
      " [ 1.  0. -1.]\n",
      " [-1.  1.  0.]]\n",
      "U2lower:[[ 0. -1.  1.]\n",
      " [ 1.  0. -1.]\n",
      " [-1.  1.  0.]]\n",
      "(array([0], dtype=int64), array([5], dtype=int64))\n"
     ]
    },
    {
     "name": "stderr",
     "output_type": "stream",
     "text": [
      "100%|██████████| 20/20 [00:25<00:00,  1.26s/it]"
     ]
    },
    {
     "name": "stdout",
     "output_type": "stream",
     "text": [
      "tgs failed for s1:[0 1 2] s2:[0 1 2]\n",
      "SEM_var_utility failed\n",
      "U1upper:[[ 0.  1. -1.]\n",
      " [-1.  0.  1.]\n",
      " [ 1. -1.  0.]]\n",
      "U1lower:[[ 0.  1. -1.]\n",
      " [-1.  0.  1.]\n",
      " [ 1. -1.  0.]]\n",
      "U2upper:[[ 0. -1.  1.]\n",
      " [ 1.  0. -1.]\n",
      " [-1.  1.  0.]]\n",
      "U2lower:[[ 0. -1.  1.]\n",
      " [ 1.  0. -1.]\n",
      " [-1.  1.  0.]]\n",
      "(array([0], dtype=int64), array([5], dtype=int64))\n"
     ]
    },
    {
     "name": "stderr",
     "output_type": "stream",
     "text": [
      "\n"
     ]
    }
   ],
   "source": [
    "for seed in trange(20):\n",
    "    rng = np.random.default_rng(seed)\n",
    "    res0 = SEM_var_utility(U1upper, U1lower, U2upper, U2lower, 5, rng, 'first')\n",
    "    s0, supp0 = get_strategies_and_support(res[0], 8, 8)\n",
    "    print(supp0)"
   ],
   "metadata": {
    "collapsed": false,
    "pycharm": {
     "name": "#%%\n"
    }
   }
  },
  {
   "cell_type": "code",
   "execution_count": null,
   "outputs": [],
   "source": [],
   "metadata": {
    "collapsed": false,
    "pycharm": {
     "name": "#%%\n"
    }
   }
  },
  {
   "cell_type": "code",
   "execution_count": 12,
   "outputs": [
    {
     "name": "stdout",
     "output_type": "stream",
     "text": [
      "tgs failed for s1:[0] s2:[4]\n",
      "tgs failed for s1:[0] s2:[5]\n",
      "tgs failed for s1:[0] s2:[4 5]\n",
      "SEM_var_utility failed\n",
      "U1upper:[[ 1.39006929  1.91487765  2.14369584  2.09641599  1.83454526  1.44864129\n",
      "   0.97554241  0.37450843]\n",
      " [ 1.23014453  1.61500447  1.72753098  1.58041468  1.28126132  0.92695782\n",
      "   0.6115716   0.32638072]\n",
      " [ 0.8859194   1.15092865  1.19700755  1.05892448  0.82586358  0.56877555\n",
      "   0.44154277  0.39453502]\n",
      " [ 0.42228889  0.57509309  0.61811651  0.59152068  0.51563729  0.39844078\n",
      "   0.42349444  0.50964547]\n",
      " [ 0.20087613  0.06171436  0.08130784  0.20307949  0.30551621  0.34904496\n",
      "   0.47096898  0.54723959]\n",
      " [ 0.20831613 -0.08790814 -0.198683    0.00342023  0.23078971  0.51765714\n",
      "   0.57842506  0.44255695]\n",
      " [ 0.25157586 -0.02568032 -0.10948945  0.13804783  0.46365362  0.72639302\n",
      "   0.68593329  0.29136093]\n",
      " [ 0.20945677  0.26468806  0.35678181  0.5680179   0.81964849  0.92410361\n",
      "   0.71212277  0.20736049]]\n",
      "U1lower:[[ 1.30396932  1.82787821  2.08054583  2.01497328  1.74488233  1.33644094\n",
      "   0.8101225   0.28530409]\n",
      " [ 1.1151861   1.51884344  1.63882596  1.49152804  1.18931305  0.81129691\n",
      "   0.30417992 -0.29501257]\n",
      " [ 0.72620337  0.9032902   0.89840697  0.75047948  0.55531215  0.34486944\n",
      "  -0.06059353 -0.63020825]\n",
      " [ 0.29694312  0.25632929  0.17799609  0.11433721  0.12300671  0.15260136\n",
      "  -0.10285567 -0.60640854]\n",
      " [-0.21046604 -0.19345534 -0.23175418 -0.18308168  0.02200603  0.22515402\n",
      "   0.08356664 -0.31884506]\n",
      " [-0.52201236 -0.45689411 -0.32246838 -0.18161504  0.10682124  0.21786367\n",
      "   0.20122081  0.01492967]\n",
      " [-0.40010821 -0.35489729 -0.23351939 -0.1313807   0.03143741  0.10473625\n",
      "   0.12488688  0.16620716]\n",
      " [ 0.08325274 -0.14174566 -0.22019906 -0.20718846 -0.1651251  -0.12594759\n",
      "  -0.05293733  0.08182233]]\n",
      "U2upper:[[-0.00882319 -0.03251306  0.33848592  0.96409728  1.43798639  1.48446523\n",
      "   1.13260173  0.56931699]\n",
      " [-0.21337402 -0.20613881  0.2251276   0.8659456   1.31039947  1.29088718\n",
      "   0.94035689  0.54082855]\n",
      " [-0.23266943 -0.10241461  0.3662393   0.94155558  1.24789311  1.08477769\n",
      "   0.72135104  0.4309146 ]\n",
      " [-0.13477589  0.15576274  0.64964004  1.10944976  1.21527622  0.86541059\n",
      "   0.45176636  0.21565166]\n",
      " [ 0.14520705  0.40248359  0.87164525  1.22146672  1.13686782  0.64292832\n",
      "   0.17078711 -0.10308493]\n",
      " [ 0.31673321  0.61990724  0.97581543  1.23954837  1.04264541  0.61183691\n",
      "   0.00793983 -0.4685627 ]\n",
      " [ 0.11439891  0.54778701  0.97310047  1.25536864  1.11242382  0.6459383\n",
      "  -0.03265704 -0.73321141]\n",
      " [-0.41085733  0.35736622  0.99185849  1.3084981   1.20083378  0.70311596\n",
      "  -0.04136234 -0.79927631]]\n",
      "U2lower:[[-0.09492315 -0.1195125   0.27533591  0.88265458  1.34832345  1.37226488\n",
      "   0.96718182  0.48011265]\n",
      " [-0.32833244 -0.30229984  0.13642259  0.77705896  1.21845121  1.17522628\n",
      "   0.6329652  -0.08056474]\n",
      " [-0.39238546 -0.35005307  0.06763872  0.63311058  0.97734168  0.86087159\n",
      "   0.21921474 -0.59382868]\n",
      " [-0.26012166 -0.16300107  0.20951962  0.63226629  0.82264565  0.61957117\n",
      "  -0.07458375 -0.90040236]\n",
      " [-0.26613512  0.14731389  0.55858323  0.83530555  0.85335764  0.51903738\n",
      "  -0.21661523 -0.96916958]\n",
      " [-0.41359529  0.25092127  0.85203005  1.0545131   0.91867694  0.31204344\n",
      "  -0.36926443 -0.89618998]\n",
      " [-0.53728515  0.21857004  0.84907053  0.98594011  0.68020761  0.02428154\n",
      "  -0.59370346 -0.85836518]\n",
      " [-0.53706135 -0.0490675   0.41487763  0.53329174  0.21606019 -0.34693524\n",
      "  -0.80642244 -0.92481448]]\n"
     ]
    }
   ],
   "source": [
    "res0 = SEM_var_utility(U1upper, U1lower, U2upper, U2lower, 5, rng, 'first')"
   ],
   "metadata": {
    "collapsed": false,
    "pycharm": {
     "name": "#%%\n"
    }
   }
  },
  {
   "cell_type": "code",
   "execution_count": null,
   "outputs": [],
   "source": [],
   "metadata": {
    "collapsed": false,
    "pycharm": {
     "name": "#%%\n"
    }
   }
  },
  {
   "cell_type": "code",
   "execution_count": 43,
   "outputs": [],
   "source": [
    "s0, supp0 = get_strategies_and_support(res[0], 8, 8)"
   ],
   "metadata": {
    "collapsed": false,
    "pycharm": {
     "name": "#%%\n"
    }
   }
  },
  {
   "cell_type": "code",
   "execution_count": 45,
   "outputs": [
    {
     "data": {
      "text/plain": "(array([1.00000000e+00, 0.00000000e+00, 1.26324855e-16, 2.92187332e-17,\n        1.42159718e-16, 3.65431794e-17, 1.35554232e-16, 1.23857412e-16]),\n array([0.00000000e+00, 0.00000000e+00, 3.88578059e-16, 2.22044605e-16,\n        1.66533454e-16, 1.00000000e+00, 1.94289029e-16, 2.77555756e-16]))"
     },
     "execution_count": 45,
     "metadata": {},
     "output_type": "execute_result"
    }
   ],
   "source": [
    "s0"
   ],
   "metadata": {
    "collapsed": false,
    "pycharm": {
     "name": "#%%\n"
    }
   }
  },
  {
   "cell_type": "code",
   "execution_count": 12,
   "outputs": [
    {
     "data": {
      "text/plain": "array([1.34615049, 1.87919489, 2.11120926, 2.05406279, 1.78458975,\n       1.40928679, 0.95464418, 0.32788091])"
     },
     "execution_count": 12,
     "metadata": {},
     "output_type": "execute_result"
    }
   ],
   "source": [
    "U1[0]"
   ],
   "metadata": {
    "collapsed": false,
    "pycharm": {
     "name": "#%%\n"
    }
   }
  },
  {
   "cell_type": "code",
   "execution_count": 14,
   "outputs": [
    {
     "data": {
      "text/plain": "array([1.40928679, 0.86648388, 0.47241804, 0.31115691, 0.29124222,\n       0.36307983, 0.57026599, 0.8858744 ])"
     },
     "execution_count": 14,
     "metadata": {},
     "output_type": "execute_result"
    }
   ],
   "source": [
    "U1[:, 5]"
   ],
   "metadata": {
    "collapsed": false,
    "pycharm": {
     "name": "#%%\n"
    }
   }
  },
  {
   "cell_type": "code",
   "execution_count": 15,
   "outputs": [
    {
     "data": {
      "text/plain": "array([-0.05009307, -0.06838208,  0.30482159,  0.91954104,  1.40177595,\n        1.4264046 ,  1.00936397,  0.52469862])"
     },
     "execution_count": 15,
     "metadata": {},
     "output_type": "execute_result"
    }
   ],
   "source": [
    "U2[0]"
   ],
   "metadata": {
    "collapsed": false,
    "pycharm": {
     "name": "#%%\n"
    }
   }
  },
  {
   "cell_type": "code",
   "execution_count": 16,
   "outputs": [
    {
     "data": {
      "text/plain": "array([1.4264046 , 1.22064669, 0.94599648, 0.73892178, 0.58289666,\n       0.41770171, 0.24520124, 0.08134611])"
     },
     "execution_count": 16,
     "metadata": {},
     "output_type": "execute_result"
    }
   ],
   "source": [
    "U2[:, 5]"
   ],
   "metadata": {
    "collapsed": false,
    "pycharm": {
     "name": "#%%\n"
    }
   }
  },
  {
   "cell_type": "code",
   "execution_count": 17,
   "outputs": [
    {
     "data": {
      "text/plain": "array([1.39006929, 1.91487765, 2.14369584, 2.09641599, 1.83454526,\n       1.44864129, 0.97554241, 0.37450843])"
     },
     "execution_count": 17,
     "metadata": {},
     "output_type": "execute_result"
    }
   ],
   "source": [
    "U1upper[0]"
   ],
   "metadata": {
    "collapsed": false,
    "pycharm": {
     "name": "#%%\n"
    }
   }
  },
  {
   "cell_type": "code",
   "execution_count": 18,
   "outputs": [
    {
     "data": {
      "text/plain": "array([1.30396932, 1.82787821, 2.08054583, 2.01497328, 1.74488233,\n       1.33644094, 0.8101225 , 0.28530409])"
     },
     "execution_count": 18,
     "metadata": {},
     "output_type": "execute_result"
    }
   ],
   "source": [
    "U1lower[0]"
   ],
   "metadata": {
    "collapsed": false,
    "pycharm": {
     "name": "#%%\n"
    }
   }
  },
  {
   "cell_type": "code",
   "execution_count": 19,
   "outputs": [
    {
     "data": {
      "text/plain": "array([0.0439188 , 0.03568276, 0.03248658, 0.0423532 , 0.04995551,\n       0.0393545 , 0.02089823, 0.04662752])"
     },
     "execution_count": 19,
     "metadata": {},
     "output_type": "execute_result"
    }
   ],
   "source": [
    "U1upper[0] - U1[0]"
   ],
   "metadata": {
    "collapsed": false,
    "pycharm": {
     "name": "#%%\n"
    }
   }
  },
  {
   "cell_type": "code",
   "execution_count": 20,
   "outputs": [
    {
     "data": {
      "text/plain": "array([0.04218117, 0.05131668, 0.03066343, 0.03908951, 0.03970742,\n       0.07284585, 0.14452167, 0.04257682])"
     },
     "execution_count": 20,
     "metadata": {},
     "output_type": "execute_result"
    }
   ],
   "source": [
    "U1[0] - U1lower[0]"
   ],
   "metadata": {
    "collapsed": false,
    "pycharm": {
     "name": "#%%\n"
    }
   }
  },
  {
   "cell_type": "code",
   "execution_count": 22,
   "outputs": [
    {
     "data": {
      "text/plain": "array([0.05806063, 0.0702405 , 0.13878121, 0.12648881, 0.06003166,\n       0.1941352 , 0.40073706, 0.62176986])"
     },
     "execution_count": 22,
     "metadata": {},
     "output_type": "execute_result"
    }
   ],
   "source": [
    "U2upper[:, 5] - U2[:, 5]"
   ],
   "metadata": {
    "collapsed": false,
    "pycharm": {
     "name": "#%%\n"
    }
   }
  },
  {
   "cell_type": "code",
   "execution_count": 23,
   "outputs": [
    {
     "data": {
      "text/plain": "array([0.05413971, 0.04542041, 0.08512489, 0.11935061, 0.06385928,\n       0.10565827, 0.2209197 , 0.42828135])"
     },
     "execution_count": 23,
     "metadata": {},
     "output_type": "execute_result"
    }
   ],
   "source": [
    "U2[:, 5] - U2lower[:, 5]"
   ],
   "metadata": {
    "collapsed": false,
    "pycharm": {
     "name": "#%%\n"
    }
   }
  },
  {
   "cell_type": "code",
   "execution_count": 60,
   "outputs": [
    {
     "data": {
      "text/plain": "array([[0.0439188 , 0.03568276, 0.03248658, 0.0423532 , 0.04995551,\n        0.0393545 , 0.02089823, 0.04662752],\n       [0.06047834, 0.05004318, 0.03896469, 0.03449693, 0.05931947,\n        0.06047393, 0.05295819, 0.12036218],\n       [0.11193021, 0.13968597, 0.10963334, 0.07703775, 0.09349926,\n        0.09635751, 0.1244134 , 0.17823347],\n       [0.06043414, 0.15650838, 0.15023773, 0.11214409, 0.10463207,\n        0.08728387, 0.14588115, 0.19564787],\n       [0.0976944 , 0.07972178, 0.10551091, 0.11368032, 0.08722743,\n        0.05780273, 0.14220624, 0.18372589],\n       [0.18804317, 0.11458214, 0.06744309, 0.10405535, 0.06240386,\n        0.15457731, 0.17715462, 0.1261864 ],\n       [0.19395312, 0.09816471, 0.05959941, 0.10332568, 0.10232041,\n        0.15612703, 0.17471569, 0.06462001],\n       [0.06242651, 0.13614229, 0.15153293, 0.09826178, 0.03858316,\n        0.03822921, 0.06969141, 0.06221165]])"
     },
     "execution_count": 60,
     "metadata": {},
     "output_type": "execute_result"
    }
   ],
   "source": [
    "U1upper - U1"
   ],
   "metadata": {
    "collapsed": false,
    "pycharm": {
     "name": "#%%\n"
    }
   }
  },
  {
   "cell_type": "code",
   "execution_count": 61,
   "outputs": [
    {
     "data": {
      "text/plain": "array([[0.04483008, 0.05113041, 0.02948568, 0.03688647, 0.0534525 ,\n        0.05413971, 0.04218215, 0.04458597],\n       [0.05683464, 0.04379442, 0.03745263, 0.04547761, 0.06099088,\n        0.04542041, 0.06765104, 0.23739671],\n       [0.09122778, 0.10798066, 0.12848098, 0.14459705, 0.13893911,\n        0.08512489, 0.15647534, 0.46099789],\n       [0.06619555, 0.12879336, 0.20271253, 0.25022415, 0.22384739,\n        0.11935061, 0.21149629, 0.59724995],\n       [0.19329241, 0.08340809, 0.14618651, 0.22365345, 0.18068304,\n        0.06385928, 0.1646131 , 0.52091362],\n       [0.36750268, 0.15001034, 0.05800263, 0.1124392 , 0.06324597,\n        0.10565827, 0.12945636, 0.26497312],\n       [0.36014046, 0.15476148, 0.0674759 , 0.13621932, 0.17134354,\n        0.2209197 , 0.19691603, 0.06427827],\n       [0.06078444, 0.15976941, 0.2648636 , 0.36254667, 0.42375339,\n        0.42828135, 0.31635895, 0.06038014]])"
     },
     "execution_count": 61,
     "metadata": {},
     "output_type": "execute_result"
    }
   ],
   "source": [
    "U2 - U2lower"
   ],
   "metadata": {
    "collapsed": false,
    "pycharm": {
     "name": "#%%\n"
    }
   }
  },
  {
   "cell_type": "code",
   "execution_count": null,
   "outputs": [],
   "source": [],
   "metadata": {
    "collapsed": false,
    "pycharm": {
     "name": "#%%\n"
    }
   }
  },
  {
   "cell_type": "code",
   "execution_count": null,
   "outputs": [],
   "source": [],
   "metadata": {
    "collapsed": false,
    "pycharm": {
     "name": "#%%\n"
    }
   }
  },
  {
   "cell_type": "code",
   "execution_count": 11,
   "outputs": [],
   "source": [
    "from core.mne import build_tgs_constraints_var_utility, tgs_var_utility, build_init_points"
   ],
   "metadata": {
    "collapsed": false,
    "pycharm": {
     "name": "#%%\n"
    }
   }
  },
  {
   "cell_type": "code",
   "execution_count": null,
   "outputs": [],
   "source": [],
   "metadata": {
    "collapsed": false,
    "pycharm": {
     "name": "#%%\n"
    }
   }
  },
  {
   "cell_type": "code",
   "execution_count": 12,
   "outputs": [],
   "source": [
    "s1 = np.array([0])\n",
    "s2 = np.array([5])"
   ],
   "metadata": {
    "collapsed": false,
    "pycharm": {
     "name": "#%%\n"
    }
   }
  },
  {
   "cell_type": "code",
   "execution_count": 13,
   "outputs": [],
   "source": [
    "cons, bounds = build_tgs_constraints_var_utility(s1, s2, U1upper, U1lower, U2upper, U2lower)"
   ],
   "metadata": {
    "collapsed": false,
    "pycharm": {
     "name": "#%%\n"
    }
   }
  },
  {
   "cell_type": "code",
   "execution_count": 15,
   "outputs": [],
   "source": [
    "rng = np.random.default_rng(0)"
   ],
   "metadata": {
    "collapsed": false,
    "pycharm": {
     "name": "#%%\n"
    }
   }
  },
  {
   "cell_type": "code",
   "execution_count": 16,
   "outputs": [
    {
     "ename": "IndexError",
     "evalue": "index 5 is out of bounds for axis 0 with size 3",
     "output_type": "error",
     "traceback": [
      "\u001B[1;31m---------------------------------------------------------------------------\u001B[0m",
      "\u001B[1;31mIndexError\u001B[0m                                Traceback (most recent call last)",
      "\u001B[1;32m~\\AppData\\Local\\Temp\\ipykernel_4932\\4120519891.py\u001B[0m in \u001B[0;36m<module>\u001B[1;34m\u001B[0m\n\u001B[1;32m----> 1\u001B[1;33m \u001B[0minit_points\u001B[0m \u001B[1;33m=\u001B[0m \u001B[0mbuild_init_points\u001B[0m\u001B[1;33m(\u001B[0m\u001B[0ms1\u001B[0m\u001B[1;33m,\u001B[0m \u001B[0ms2\u001B[0m\u001B[1;33m,\u001B[0m \u001B[0mU1upper\u001B[0m\u001B[1;33m,\u001B[0m \u001B[0mU1lower\u001B[0m\u001B[1;33m,\u001B[0m \u001B[0mU2upper\u001B[0m\u001B[1;33m,\u001B[0m \u001B[0mU2lower\u001B[0m\u001B[1;33m,\u001B[0m \u001B[1;36m20\u001B[0m\u001B[1;33m,\u001B[0m \u001B[0mrng\u001B[0m\u001B[1;33m)\u001B[0m\u001B[1;33m\u001B[0m\u001B[1;33m\u001B[0m\u001B[0m\n\u001B[0m",
      "\u001B[1;32m~\\Desktop\\Research\\nashbo\\nash-bo\\core\\mne.py\u001B[0m in \u001B[0;36mbuild_init_points\u001B[1;34m(s1, s2, U1upper, U1lower, U2upper, U2lower, num_rand_dists_per_agent, rng)\u001B[0m\n\u001B[0;32m    386\u001B[0m                     \u001B[0mx\u001B[0m \u001B[1;33m=\u001B[0m \u001B[0mnp\u001B[0m\u001B[1;33m.\u001B[0m\u001B[0mzeros\u001B[0m\u001B[1;33m(\u001B[0m\u001B[0mM1\u001B[0m \u001B[1;33m+\u001B[0m \u001B[0mM2\u001B[0m \u001B[1;33m+\u001B[0m \u001B[1;36m2\u001B[0m \u001B[1;33m+\u001B[0m \u001B[1;36m2\u001B[0m \u001B[1;33m*\u001B[0m \u001B[1;33m(\u001B[0m\u001B[0mM1\u001B[0m \u001B[1;33m*\u001B[0m \u001B[0mM2\u001B[0m\u001B[1;33m)\u001B[0m\u001B[1;33m)\u001B[0m\u001B[1;33m\u001B[0m\u001B[1;33m\u001B[0m\u001B[0m\n\u001B[0;32m    387\u001B[0m                     \u001B[0mx\u001B[0m\u001B[1;33m[\u001B[0m\u001B[0mnp\u001B[0m\u001B[1;33m.\u001B[0m\u001B[0marange\u001B[0m\u001B[1;33m(\u001B[0m\u001B[0mp1start\u001B[0m\u001B[1;33m,\u001B[0m \u001B[0mp1end\u001B[0m \u001B[1;33m+\u001B[0m \u001B[1;36m1\u001B[0m\u001B[1;33m)\u001B[0m\u001B[1;33m[\u001B[0m\u001B[0ms1\u001B[0m\u001B[1;33m]\u001B[0m\u001B[1;33m]\u001B[0m \u001B[1;33m=\u001B[0m \u001B[0mcurr_p1_prob\u001B[0m\u001B[1;33m\u001B[0m\u001B[1;33m\u001B[0m\u001B[0m\n\u001B[1;32m--> 388\u001B[1;33m                     \u001B[0mx\u001B[0m\u001B[1;33m[\u001B[0m\u001B[0mnp\u001B[0m\u001B[1;33m.\u001B[0m\u001B[0marange\u001B[0m\u001B[1;33m(\u001B[0m\u001B[0mp2start\u001B[0m\u001B[1;33m,\u001B[0m \u001B[0mp2end\u001B[0m \u001B[1;33m+\u001B[0m \u001B[1;36m1\u001B[0m\u001B[1;33m)\u001B[0m\u001B[1;33m[\u001B[0m\u001B[0ms2\u001B[0m\u001B[1;33m]\u001B[0m\u001B[1;33m]\u001B[0m \u001B[1;33m=\u001B[0m \u001B[0mcurr_p2_prob\u001B[0m\u001B[1;33m\u001B[0m\u001B[1;33m\u001B[0m\u001B[0m\n\u001B[0m\u001B[0;32m    389\u001B[0m                     \u001B[0mcurr_p1_prob_all\u001B[0m \u001B[1;33m=\u001B[0m \u001B[0mx\u001B[0m\u001B[1;33m[\u001B[0m\u001B[0mp1start\u001B[0m \u001B[1;33m:\u001B[0m \u001B[0mp1end\u001B[0m \u001B[1;33m+\u001B[0m \u001B[1;36m1\u001B[0m\u001B[1;33m]\u001B[0m\u001B[1;33m\u001B[0m\u001B[1;33m\u001B[0m\u001B[0m\n\u001B[0;32m    390\u001B[0m                     \u001B[0mcurr_p2_prob_all\u001B[0m \u001B[1;33m=\u001B[0m \u001B[0mx\u001B[0m\u001B[1;33m[\u001B[0m\u001B[0mp2start\u001B[0m \u001B[1;33m:\u001B[0m \u001B[0mp2end\u001B[0m \u001B[1;33m+\u001B[0m \u001B[1;36m1\u001B[0m\u001B[1;33m]\u001B[0m\u001B[1;33m\u001B[0m\u001B[1;33m\u001B[0m\u001B[0m\n",
      "\u001B[1;31mIndexError\u001B[0m: index 5 is out of bounds for axis 0 with size 3"
     ]
    }
   ],
   "source": [
    "init_points = build_init_points(s1, s2, U1upper, U1lower, U2upper, U2lower, 20, rng)"
   ],
   "metadata": {
    "collapsed": false,
    "pycharm": {
     "name": "#%%\n"
    }
   }
  },
  {
   "cell_type": "code",
   "execution_count": 16,
   "outputs": [
    {
     "ename": "NameError",
     "evalue": "name 'init_points' is not defined",
     "output_type": "error",
     "traceback": [
      "\u001B[1;31m---------------------------------------------------------------------------\u001B[0m",
      "\u001B[1;31mNameError\u001B[0m                                 Traceback (most recent call last)",
      "\u001B[1;32m~\\AppData\\Local\\Temp\\ipykernel_25536\\4248865481.py\u001B[0m in \u001B[0;36m<module>\u001B[1;34m\u001B[0m\n\u001B[1;32m----> 1\u001B[1;33m \u001B[0minit_points\u001B[0m\u001B[1;33m\u001B[0m\u001B[1;33m\u001B[0m\u001B[0m\n\u001B[0m",
      "\u001B[1;31mNameError\u001B[0m: name 'init_points' is not defined"
     ]
    }
   ],
   "source": [
    "init_points"
   ],
   "metadata": {
    "collapsed": false,
    "pycharm": {
     "name": "#%%\n"
    }
   }
  },
  {
   "cell_type": "code",
   "execution_count": 21,
   "outputs": [
    {
     "data": {
      "text/plain": "array([-0.05187317, -0.27085323, -0.31252745, -0.19744878, -0.06046403,\n       -0.04843104, -0.21144312, -0.47395934, -0.07601278, -0.25421933,\n       -0.22623384, -0.00361916,  0.27489874,  0.43541426,  0.38317853,\n        0.15414936,  0.30691091,  0.18077509,  0.21693901,  0.42957983,\n        0.71511424,  0.91392274,  0.9110855 ,  0.70336806,  0.92337593,\n        0.82150228,  0.78733308,  0.87085803,  1.02838614,  1.14703074,\n        1.12065438,  0.92089492,  1.39315492,  1.26442534,  1.11261739,\n        1.01896094,  0.99511273,  0.98066117,  0.89631571,  0.70844699,\n        1.42836506,  1.23305673,  0.97282464,  0.74249088,  0.58098285,\n        0.46194018,  0.33510992,  0.17809036,  1.04989178,  0.78666105,\n        0.47028289,  0.18859131, -0.02291406, -0.1806623 , -0.31318025,\n       -0.42389239,  0.52471482,  0.23013191, -0.08145704, -0.34237535,\n       -0.53612726, -0.68237634, -0.79578829, -0.8620454 ])"
     },
     "execution_count": 21,
     "metadata": {},
     "output_type": "execute_result"
    }
   ],
   "source": [
    "init_points[0][u2start:u2start + M1 * M2]"
   ],
   "metadata": {
    "collapsed": false,
    "pycharm": {
     "name": "#%%\n"
    }
   }
  },
  {
   "cell_type": "code",
   "execution_count": 32,
   "outputs": [
    {
     "data": {
      "text/plain": "(False, None)"
     },
     "execution_count": 32,
     "metadata": {},
     "output_type": "execute_result"
    }
   ],
   "source": [
    "tgs_var_utility(init_points, cons, bounds)"
   ],
   "metadata": {
    "collapsed": false,
    "pycharm": {
     "name": "#%%\n"
    }
   }
  },
  {
   "cell_type": "code",
   "execution_count": 34,
   "outputs": [
    {
     "data": {
      "text/plain": "array([[ 1.        ,  0.        ,  0.        , ...,  0.17809036,\n        -0.42389239, -0.8620454 ],\n       [ 1.        ,  0.        ,  0.        , ..., -0.34693524,\n        -0.80642244, -0.92481448],\n       [ 1.        ,  0.        ,  0.        , ...,  0.70311596,\n        -0.04136234, -0.79927631],\n       ...,\n       [ 1.        ,  0.        ,  0.        , ...,  0.17809036,\n        -0.42389239, -0.8620454 ],\n       [ 1.        ,  0.        ,  0.        , ..., -0.34693524,\n        -0.80642244, -0.92481448],\n       [ 1.        ,  0.        ,  0.        , ...,  0.70311596,\n        -0.04136234, -0.79927631]])"
     },
     "execution_count": 34,
     "metadata": {},
     "output_type": "execute_result"
    }
   ],
   "source": [
    "init_points"
   ],
   "metadata": {
    "collapsed": false,
    "pycharm": {
     "name": "#%%\n"
    }
   }
  },
  {
   "cell_type": "code",
   "execution_count": 36,
   "outputs": [
    {
     "data": {
      "text/plain": "array([ 1.34615049,  1.87919489,  2.11120926,  2.05406279,  1.78458975,\n        1.40928679,  0.95464418,  0.32788091,  1.16966618,  1.5649613 ,\n        1.68856629,  1.54591775,  1.22194185,  0.86648388,  0.55861341,\n        0.20601855,  0.77398919,  1.01124269,  1.0873742 ,  0.98188673,\n        0.73236432,  0.47241804,  0.31712937,  0.21630155,  0.36185475,\n        0.41858471,  0.46787878,  0.47937659,  0.41100522,  0.31115691,\n        0.27761329,  0.3139976 ,  0.10318173, -0.01800742, -0.02420307,\n        0.08939917,  0.21828878,  0.29124222,  0.32876274,  0.3635137 ,\n        0.02027297, -0.20249028, -0.26612609, -0.10063512,  0.16838585,\n        0.36307983,  0.40127045,  0.31637054,  0.05762274, -0.12384503,\n       -0.16908886,  0.03472215,  0.36133321,  0.57026599,  0.5112176 ,\n        0.22674092,  0.14703025,  0.12854578,  0.20524888,  0.46975612,\n        0.78106533,  0.8858744 ,  0.64243135,  0.14514885])"
     },
     "execution_count": 36,
     "metadata": {},
     "output_type": "execute_result"
    }
   ],
   "source": [
    "U1.ravel()"
   ],
   "metadata": {
    "collapsed": false,
    "pycharm": {
     "name": "#%%\n"
    }
   }
  },
  {
   "cell_type": "code",
   "execution_count": 20,
   "outputs": [],
   "source": [
    "M1 = 8\n",
    "M2 = 8\n",
    "u1start = M1 + M2 + 2\n",
    "u2start = u1start + M1 * M2\n",
    "# print(f\"U1: {np.reshape(x[u1start:u1start + M1 * M2], (M1, M2))}\")\n",
    "# print(f\"U2: {np.reshape(x[u2start:u2start + M2 * M1], (M2, M1)).T}\")"
   ],
   "metadata": {
    "collapsed": false,
    "pycharm": {
     "name": "#%%\n"
    }
   }
  },
  {
   "cell_type": "code",
   "execution_count": 33,
   "outputs": [],
   "source": [
    "test_init = np.zeros(M1 + M2 + 2 + 2 * (M1 * M2))"
   ],
   "metadata": {
    "collapsed": false,
    "pycharm": {
     "name": "#%%\n"
    }
   }
  },
  {
   "cell_type": "code",
   "execution_count": 34,
   "outputs": [],
   "source": [
    "test_init[:u1start] = init_points[0][:u1start]"
   ],
   "metadata": {
    "collapsed": false,
    "pycharm": {
     "name": "#%%\n"
    }
   }
  },
  {
   "cell_type": "code",
   "execution_count": 35,
   "outputs": [],
   "source": [
    "test_init[u1start:u1start + M1 * M2] = U1.ravel()"
   ],
   "metadata": {
    "collapsed": false,
    "pycharm": {
     "name": "#%%\n"
    }
   }
  },
  {
   "cell_type": "code",
   "execution_count": 36,
   "outputs": [],
   "source": [
    "test_init[u2start:u2start + M1 * M2] = U2.T.ravel()"
   ],
   "metadata": {
    "collapsed": false,
    "pycharm": {
     "name": "#%%\n"
    }
   }
  },
  {
   "cell_type": "code",
   "execution_count": 37,
   "outputs": [
    {
     "data": {
      "text/plain": "(False, None)"
     },
     "execution_count": 37,
     "metadata": {},
     "output_type": "execute_result"
    }
   ],
   "source": [
    "tgs_var_utility(test_init[None, :], cons, bounds)"
   ],
   "metadata": {
    "collapsed": false,
    "pycharm": {
     "name": "#%%\n"
    }
   }
  },
  {
   "cell_type": "code",
   "execution_count": 67,
   "outputs": [],
   "source": [
    "s1 = 0\n",
    "s2 = 5"
   ],
   "metadata": {
    "collapsed": false,
    "pycharm": {
     "name": "#%%\n"
    }
   }
  },
  {
   "cell_type": "code",
   "execution_count": 68,
   "outputs": [
    {
     "data": {
      "text/plain": "(True,\n array([ 1.        ,  0.        ,  0.        ,  0.        ,  0.        ,\n         0.        ,  0.        ,  0.        ,  1.40928679,  0.        ,\n         0.        ,  0.        ,  0.        ,  0.        ,  1.        ,\n         0.        ,  0.        ,  1.4264046 ,  1.34615049,  1.87919489,\n         2.11120926,  2.05406279,  1.78458975,  1.40928679,  0.95464418,\n         0.32788091,  1.16966618,  1.5649613 ,  1.68856629,  1.54591775,\n         1.22194185,  0.86648388,  0.55861341,  0.20601855,  0.77398919,\n         1.01124269,  1.0873742 ,  0.98188673,  0.73236432,  0.47241804,\n         0.31712937,  0.21630155,  0.36185475,  0.41858471,  0.46787878,\n         0.47937659,  0.41100522,  0.31115691,  0.27761329,  0.3139976 ,\n         0.10318173, -0.01800742, -0.02420307,  0.08939917,  0.21828878,\n         0.29124222,  0.32876274,  0.3635137 ,  0.02027297, -0.20249028,\n        -0.26612609, -0.10063512,  0.16838585,  0.36307983,  0.40127045,\n         0.31637054,  0.05762274, -0.12384503, -0.16908886,  0.03472215,\n         0.36133321,  0.57026599,  0.5112176 ,  0.22674092,  0.14703025,\n         0.12854578,  0.20524888,  0.46975612,  0.78106533,  0.8858744 ,\n         0.64243135,  0.14514885, -0.05009307, -0.2714978 , -0.30115769,\n        -0.19392611, -0.07284271, -0.04609261, -0.17714469, -0.47627691,\n        -0.06838208, -0.25850543, -0.24207241, -0.0342077 ,  0.23072198,\n         0.40093161,  0.37333153,  0.11070191,  0.30482159,  0.17387522,\n         0.1961197 ,  0.41223215,  0.70476974,  0.91003268,  0.91654643,\n         0.67974123,  0.91954104,  0.82253657,  0.77770764,  0.88249044,\n         1.058959  ,  1.1669523 ,  1.12215943,  0.89583841,  1.40177595,\n         1.27944209,  1.11628079,  1.04649304,  1.03404068,  0.98192291,\n         0.85155115,  0.63981358,  1.4264046 ,  1.22064669,  0.94599648,\n         0.73892178,  0.58289666,  0.41770171,  0.24520124,  0.08134611,\n         1.00936397,  0.70061624,  0.37569008,  0.13691254, -0.05200213,\n        -0.23980807, -0.39678743, -0.49006349,  0.52469862,  0.15683197,\n        -0.13283079, -0.30315241, -0.44825596, -0.63121686, -0.7940869 ,\n        -0.86443434]))"
     },
     "execution_count": 68,
     "metadata": {},
     "output_type": "execute_result"
    }
   ],
   "source": [
    "test_init[u1start:u1start + M1 * M2] = U1.ravel()\n",
    "test_init[u2start:u2start + M1 * M2] = U2.T.ravel()\n",
    "test_init[M1] = test_init[u1start + M1 * s1 + s2]\n",
    "test_init[M1 + M2 + 1] = test_init[u2start + M1 * s2 + s1]\n",
    "tgs_var_utility(test_init[None, :], cons, bounds)"
   ],
   "metadata": {
    "collapsed": false,
    "pycharm": {
     "name": "#%%\n"
    }
   }
  },
  {
   "cell_type": "code",
   "execution_count": 69,
   "outputs": [
    {
     "data": {
      "text/plain": "(True,\n array([ 1.        ,  0.        ,  0.        ,  0.        ,  0.        ,\n         0.        ,  0.        ,  0.        ,  1.44864129,  0.        ,\n         0.        ,  0.        ,  0.        ,  0.        ,  1.        ,\n         0.        ,  0.        ,  1.48446523,  1.39006929,  1.91487765,\n         2.14369584,  2.09641599,  1.83454526,  1.44864129,  0.97554241,\n         0.37450843,  1.23014453,  1.61500447,  1.72753098,  1.58041468,\n         1.28126132,  0.92695782,  0.6115716 ,  0.32638072,  0.8859194 ,\n         1.15092865,  1.19700755,  1.05892448,  0.82586358,  0.56877555,\n         0.44154277,  0.39453502,  0.42228889,  0.57509309,  0.61811651,\n         0.59152068,  0.51563729,  0.39844078,  0.42349444,  0.50964547,\n         0.20087613,  0.06171436,  0.08130784,  0.20307949,  0.30551621,\n         0.34904496,  0.47096898,  0.54723959,  0.20831613, -0.08790814,\n        -0.198683  ,  0.00342023,  0.23078971,  0.51765714,  0.57842506,\n         0.44255695,  0.25157586, -0.02568032, -0.10948945,  0.13804783,\n         0.46365362,  0.72639302,  0.68593329,  0.29136093,  0.20945677,\n         0.26468806,  0.35678181,  0.5680179 ,  0.81964849,  0.92410361,\n         0.71212277,  0.20736049, -0.00882319, -0.21337402, -0.23266943,\n        -0.13477589,  0.14520705,  0.31673321,  0.11439891, -0.41085733,\n        -0.03251306, -0.20613881, -0.10241461,  0.15576274,  0.40248359,\n         0.61990724,  0.54778701,  0.35736622,  0.33848592,  0.2251276 ,\n         0.3662393 ,  0.64964004,  0.87164525,  0.97581543,  0.97310047,\n         0.99185849,  0.96409728,  0.8659456 ,  0.94155558,  1.10944976,\n         1.22146672,  1.23954837,  1.25536864,  1.3084981 ,  1.43798639,\n         1.31039947,  1.24789311,  1.21527622,  1.13686782,  1.04264541,\n         1.11242382,  1.20083378,  1.48446523,  1.29088718,  1.08477769,\n         0.86541059,  0.64292832,  0.61183691,  0.6459383 ,  0.70311596,\n         1.13260173,  0.94035689,  0.72135104,  0.45176636,  0.17078711,\n         0.00793983, -0.03265704, -0.04136234,  0.56931699,  0.54082855,\n         0.4309146 ,  0.21565166, -0.10308493, -0.4685627 , -0.73321141,\n        -0.79927631]))"
     },
     "execution_count": 69,
     "metadata": {},
     "output_type": "execute_result"
    }
   ],
   "source": [
    "test_init[u1start:u1start + M1 * M2] = U1upper.ravel()\n",
    "test_init[u2start:u2start + M1 * M2] = U2upper.T.ravel()\n",
    "test_init[M1] = test_init[u1start + M1 * s1 + s2]\n",
    "test_init[M1 + M2 + 1] = test_init[u2start + M1 * s2 + s1]\n",
    "tgs_var_utility(test_init[None, :], cons, bounds)"
   ],
   "metadata": {
    "collapsed": false,
    "pycharm": {
     "name": "#%%\n"
    }
   }
  },
  {
   "cell_type": "code",
   "execution_count": null,
   "outputs": [],
   "source": [
    "test_init[u1start:u1start + M1 * M2] = U1upper.ravel()\n",
    "test_init[u2start:u2start + M1 * M2] = U2upper.T.ravel()\n",
    "test_init[M1] = test_init[u1start + M1 * s1 + s2]\n",
    "test_init[M1 + M2 + 1] = test_init[u2start + M1 * s2 + s1]\n",
    "tgs_var_utility(test_init[None, :], cons, bounds)"
   ],
   "metadata": {
    "collapsed": false,
    "pycharm": {
     "name": "#%%\n"
    }
   }
  },
  {
   "cell_type": "code",
   "execution_count": 70,
   "outputs": [
    {
     "data": {
      "text/plain": "(True,\n array([ 1.        ,  0.        ,  0.        ,  0.        ,  0.        ,\n         0.        ,  0.        ,  0.        ,  1.33644094,  0.        ,\n         0.        ,  0.        ,  0.        ,  0.        ,  1.        ,\n         0.        ,  0.        ,  1.37226488,  1.30396932,  1.82787821,\n         2.08054583,  2.01497328,  1.74488233,  1.33644094,  0.8101225 ,\n         0.28530409,  1.1151861 ,  1.51884344,  1.63882596,  1.49152804,\n         1.18931305,  0.81129691,  0.30417992, -0.29501257,  0.72620337,\n         0.9032902 ,  0.89840697,  0.75047948,  0.55531215,  0.34486944,\n        -0.06059353, -0.63020825,  0.29694312,  0.25632929,  0.17799609,\n         0.11433721,  0.12300671,  0.15260136, -0.10285567, -0.60640854,\n        -0.21046604, -0.19345534, -0.23175418, -0.18308168,  0.02200603,\n         0.22515402,  0.08356664, -0.31884506, -0.52201236, -0.45689411,\n        -0.32246838, -0.18161504,  0.10682124,  0.21786367,  0.20122081,\n         0.01492967, -0.40010821, -0.35489729, -0.23351939, -0.1313807 ,\n         0.03143741,  0.10473625,  0.12488688,  0.16620716,  0.08325274,\n        -0.14174566, -0.22019906, -0.20718846, -0.1651251 , -0.12594759,\n        -0.05293733,  0.08182233, -0.09492315, -0.32833244, -0.39238546,\n        -0.26012166, -0.26613512, -0.41359529, -0.53728515, -0.53706135,\n        -0.1195125 , -0.30229984, -0.35005307, -0.16300107,  0.14731389,\n         0.25092127,  0.21857004, -0.0490675 ,  0.27533591,  0.13642259,\n         0.06763872,  0.20951962,  0.55858323,  0.85203005,  0.84907053,\n         0.41487763,  0.88265458,  0.77705896,  0.63311058,  0.63226629,\n         0.83530555,  1.0545131 ,  0.98594011,  0.53329174,  1.34832345,\n         1.21845121,  0.97734168,  0.82264565,  0.85335764,  0.91867694,\n         0.68020761,  0.21606019,  1.37226488,  1.17522628,  0.86087159,\n         0.61957117,  0.51903738,  0.31204344,  0.02428154, -0.34693524,\n         0.96718182,  0.6329652 ,  0.21921474, -0.07458375, -0.21661523,\n        -0.36926443, -0.59370346, -0.80642244,  0.48011265, -0.08056474,\n        -0.59382868, -0.90040236, -0.96916958, -0.89618998, -0.85836518,\n        -0.92481448]))"
     },
     "execution_count": 70,
     "metadata": {},
     "output_type": "execute_result"
    }
   ],
   "source": [
    "test_init[u1start:u1start + M1 * M2] = U1lower.ravel()\n",
    "test_init[u2start:u2start + M1 * M2] = U2lower.T.ravel()\n",
    "test_init[M1] = test_init[u1start + M1 * s1 + s2]\n",
    "test_init[M1 + M2 + 1] = test_init[u2start + M1 * s2 + s1]\n",
    "tgs_var_utility(test_init[None, :], cons, bounds)"
   ],
   "metadata": {
    "collapsed": false,
    "pycharm": {
     "name": "#%%\n"
    }
   }
  },
  {
   "cell_type": "code",
   "execution_count": 73,
   "outputs": [
    {
     "data": {
      "text/plain": "(True,\n array([ 1.        ,  0.        ,  0.        ,  0.        ,  0.        ,\n         0.        ,  0.        ,  0.        ,  1.40254111,  0.        ,\n         0.        ,  0.        ,  0.        ,  0.        ,  1.        ,\n         0.        ,  0.        ,  1.41836506,  1.3570193 ,  1.88137793,\n         2.12212083,  2.06569463,  1.79971379,  1.40254111,  0.90283246,\n         0.33990626,  1.18266531,  1.57692395,  1.69317847,  1.54597136,\n         1.24528718,  0.87912737,  0.46787576,  0.02568408,  0.81606138,\n         1.03710943,  1.05770726,  0.91470198,  0.70058786,  0.4668225 ,\n         0.20047462, -0.10783662,  0.36961601,  0.42571119,  0.4080563 ,\n         0.36292895,  0.329322  ,  0.28552107,  0.17031938, -0.03838154,\n         0.00520505, -0.05587049, -0.06522317,  0.0199989 ,  0.17376112,\n         0.29709949,  0.28726781,  0.12419726, -0.14684811, -0.26240112,\n        -0.25057569, -0.0790974 ,  0.17880547,  0.3777604 ,  0.39982294,\n         0.23874331, -0.06426617, -0.1802888 , -0.16150442,  0.01333357,\n         0.25754552,  0.42556463,  0.41541009,  0.23878404,  0.15635475,\n         0.0714712 ,  0.07829137,  0.19041472,  0.33726169,  0.40907801,\n         0.33959272,  0.15459141, -0.06187317, -0.28085323, -0.32252745,\n        -0.20744878, -0.07046403, -0.05843104, -0.22144312, -0.48395934,\n        -0.08601278, -0.26421933, -0.23623384, -0.01361916,  0.26489874,\n         0.42541426,  0.37317853,  0.14414936,  0.29691091,  0.17077509,\n         0.20693901,  0.41957983,  0.70511424,  0.90392274,  0.9010855 ,\n         0.69336806,  0.91337593,  0.81150228,  0.77733308,  0.86085803,\n         1.01838614,  1.13703074,  1.11065438,  0.91089492,  1.38315492,\n         1.25442534,  1.10261739,  1.00896094,  0.98511273,  0.97066117,\n         0.88631571,  0.69844699,  1.41836506,  1.22305673,  0.96282464,\n         0.73249088,  0.57098285,  0.45194018,  0.32510992,  0.16809036,\n         1.03989178,  0.77666105,  0.46028289,  0.17859131, -0.03291406,\n        -0.1906623 , -0.32318025, -0.43389239,  0.51471482,  0.22013191,\n        -0.09145704, -0.35237535, -0.54612726, -0.69237634, -0.80578829,\n        -0.8720454 ]))"
     },
     "execution_count": 73,
     "metadata": {},
     "output_type": "execute_result"
    }
   ],
   "source": [
    "U1mean = (U1upper + U1lower) / 2\n",
    "U2mean = (U2upper + U2lower) / 2\n",
    "test_init[u1start:u1start + M1 * M2] = U1mean.ravel() + 0.01\n",
    "test_init[u2start:u2start + M1 * M2] = U2mean.T.ravel() - 0.01\n",
    "test_init[M1] = test_init[u1start + M1 * s1 + s2]\n",
    "test_init[M1 + M2 + 1] = test_init[u2start + M1 * s2 + s1]\n",
    "tgs_var_utility(test_init[None, :], cons, bounds)"
   ],
   "metadata": {
    "collapsed": false,
    "pycharm": {
     "name": "#%%\n"
    }
   }
  },
  {
   "cell_type": "code",
   "execution_count": null,
   "outputs": [],
   "source": [],
   "metadata": {
    "collapsed": false,
    "pycharm": {
     "name": "#%%\n"
    }
   }
  },
  {
   "cell_type": "code",
   "execution_count": 66,
   "outputs": [
    {
     "data": {
      "text/plain": "(True,\n array([ 1.        ,  0.        ,  0.        ,  0.        ,  0.        ,\n         0.        ,  0.        ,  0.        ,  1.40928679,  0.        ,\n         0.        ,  0.        ,  0.        ,  0.        ,  1.        ,\n         0.        ,  0.        ,  1.4264046 ,  1.34615049,  1.87919489,\n         2.11120926,  2.05406279,  1.78458975,  1.40928679,  0.95464418,\n         0.32788091,  1.16966618,  1.5649613 ,  1.68856629,  1.54591775,\n         1.22194185,  0.86648388,  0.55861341,  0.20601855,  0.77398919,\n         1.01124269,  1.0873742 ,  0.98188673,  0.73236432,  0.47241804,\n         0.31712937,  0.21630155,  0.36185475,  0.41858471,  0.46787878,\n         0.47937659,  0.41100522,  0.31115691,  0.27761329,  0.3139976 ,\n         0.10318173, -0.01800742, -0.02420307,  0.08939917,  0.21828878,\n         0.29124222,  0.32876274,  0.3635137 ,  0.02027297, -0.20249028,\n        -0.26612609, -0.10063512,  0.16838585,  0.36307983,  0.40127045,\n         0.31637054,  0.05762274, -0.12384503, -0.16908886,  0.03472215,\n         0.36133321,  0.57026599,  0.5112176 ,  0.22674092,  0.14703025,\n         0.12854578,  0.20524888,  0.46975612,  0.78106533,  0.8858744 ,\n         0.64243135,  0.14514885, -0.05009307, -0.2714978 , -0.30115769,\n        -0.19392611, -0.07284271, -0.04609261, -0.17714469, -0.47627691,\n        -0.06838208, -0.25850543, -0.24207241, -0.0342077 ,  0.23072198,\n         0.40093161,  0.37333153,  0.11070191,  0.30482159,  0.17387522,\n         0.1961197 ,  0.41223215,  0.70476974,  0.91003268,  0.91654643,\n         0.67974123,  0.91954104,  0.82253657,  0.77770764,  0.88249044,\n         1.058959  ,  1.1669523 ,  1.12215943,  0.89583841,  1.40177595,\n         1.27944209,  1.11628079,  1.04649304,  1.03404068,  0.98192291,\n         0.85155115,  0.63981358,  1.4264046 ,  1.22064669,  0.94599648,\n         0.73892178,  0.58289666,  0.41770171,  0.24520124,  0.08134611,\n         1.00936397,  0.70061624,  0.37569008,  0.13691254, -0.05200213,\n        -0.23980807, -0.39678743, -0.49006349,  0.52469862,  0.15683197,\n        -0.13283079, -0.30315241, -0.44825596, -0.63121686, -0.7940869 ,\n        -0.86443434]))"
     },
     "execution_count": 66,
     "metadata": {},
     "output_type": "execute_result"
    }
   ],
   "source": [
    "tgs_var_utility(test_init[None, :], cons, bounds)"
   ],
   "metadata": {
    "collapsed": false,
    "pycharm": {
     "name": "#%%\n"
    }
   }
  },
  {
   "cell_type": "code",
   "execution_count": 62,
   "outputs": [
    {
     "data": {
      "text/plain": "1.4092867879247706"
     },
     "execution_count": 62,
     "metadata": {},
     "output_type": "execute_result"
    }
   ],
   "source": [
    "test_init[M1]"
   ],
   "metadata": {
    "collapsed": false,
    "pycharm": {
     "name": "#%%\n"
    }
   }
  },
  {
   "cell_type": "code",
   "execution_count": 65,
   "outputs": [
    {
     "data": {
      "text/plain": "1.4264045990280465"
     },
     "execution_count": 65,
     "metadata": {},
     "output_type": "execute_result"
    }
   ],
   "source": [
    "test_init[M1 + M2 + 1]"
   ],
   "metadata": {
    "collapsed": false,
    "pycharm": {
     "name": "#%%\n"
    }
   }
  },
  {
   "cell_type": "code",
   "execution_count": 50,
   "outputs": [],
   "source": [
    "from scipy.optimize import minimize"
   ],
   "metadata": {
    "collapsed": false,
    "pycharm": {
     "name": "#%%\n"
    }
   }
  },
  {
   "cell_type": "code",
   "execution_count": 61,
   "outputs": [
    {
     "name": "stdout",
     "output_type": "stream",
     "text": [
      "Inequality constraints incompatible    (Exit mode 4)\n",
      "            Current function value: 0.0\n",
      "            Iterations: 1\n",
      "            Function evaluations: 147\n",
      "            Gradient evaluations: 1\n"
     ]
    }
   ],
   "source": [
    "fun = lambda x: 0  # feasibility problem\n",
    "\n",
    "res = minimize(\n",
    "    fun=fun,\n",
    "    x0=test_init,\n",
    "    method=\"SLSQP\",\n",
    "    bounds=bounds,\n",
    "    constraints=cons,\n",
    "    options={\"disp\": True},\n",
    ")"
   ],
   "metadata": {
    "collapsed": false,
    "pycharm": {
     "name": "#%%\n"
    }
   }
  },
  {
   "cell_type": "code",
   "execution_count": null,
   "outputs": [],
   "source": [],
   "metadata": {
    "collapsed": false,
    "pycharm": {
     "name": "#%%\n"
    }
   }
  },
  {
   "cell_type": "code",
   "execution_count": null,
   "outputs": [],
   "source": [],
   "metadata": {
    "collapsed": false,
    "pycharm": {
     "name": "#%%\n"
    }
   }
  },
  {
   "cell_type": "code",
   "execution_count": null,
   "outputs": [],
   "source": [],
   "metadata": {
    "collapsed": false,
    "pycharm": {
     "name": "#%%\n"
    }
   }
  },
  {
   "cell_type": "code",
   "execution_count": 64,
   "outputs": [
    {
     "name": "stdout",
     "output_type": "stream",
     "text": [
      "     fun: 0.0\n",
      "     jac: array([ 0.,  0.,  0.,  0.,  0.,  0.,  0.,  0.,  0.,  0.,  0.,  0.,  0.,\n",
      "        0.,  0.,  0.,  0.,  0.,  0.,  0.,  0.,  0.,  0.,  0.,  0.,  0.,\n",
      "        0.,  0.,  0.,  0.,  0.,  0.,  0.,  0.,  0.,  0.,  0.,  0.,  0.,\n",
      "        0.,  0.,  0.,  0.,  0.,  0.,  0.,  0.,  0.,  0.,  0.,  0.,  0.,\n",
      "        0.,  0.,  0.,  0.,  0.,  0.,  0.,  0.,  0.,  0.,  0.,  0.,  0.,\n",
      "        0.,  0.,  0.,  0.,  0.,  0.,  0.,  0.,  0.,  0.,  0.,  0.,  0.,\n",
      "        0.,  0.,  0.,  0.,  0., -0., -0., -0., -0., -0., -0., -0.,  0.,\n",
      "        0., -0., -0., -0., -0., -0.,  0.,  0.,  0.,  0., -0., -0.,  0.,\n",
      "        0.,  0.,  0.,  0.,  0.,  0.,  0.,  0.,  0.,  0.,  0.,  0.,  0.,\n",
      "        0.,  0.,  0.,  0.,  0.,  0.,  0.,  0., -0., -0.,  0.,  0.,  0.,\n",
      "        0.,  0., -0., -0., -0., -0.,  0.,  0.,  0.,  0., -0., -0., -0.,\n",
      "       -0., -0.,  0.])\n",
      " message: 'Inequality constraints incompatible'\n",
      "    nfev: 147\n",
      "     nit: 1\n",
      "    njev: 1\n",
      "  status: 4\n",
      " success: False\n",
      "       x: array([ 1.        ,  0.        ,  0.        ,  0.        ,  0.        ,\n",
      "        0.        ,  0.        ,  0.        ,  1.40928679,  0.        ,\n",
      "        0.        ,  0.        ,  0.        ,  0.        ,  1.        ,\n",
      "        0.        ,  0.        ,  1.4264046 ,  1.34615049,  1.87919489,\n",
      "        2.11120926,  2.05406279,  1.78458975,  1.40928679,  0.95464418,\n",
      "        0.32788091,  1.16966618,  1.5649613 ,  1.68856629,  1.54591775,\n",
      "        1.22194185,  0.86648388,  0.55861341,  0.20601855,  0.77398919,\n",
      "        1.01124269,  1.0873742 ,  0.98188673,  0.73236432,  0.47241804,\n",
      "        0.31712937,  0.21630155,  0.36185475,  0.41858471,  0.46787878,\n",
      "        0.47937659,  0.41100522,  0.31115691,  0.27761329,  0.3139976 ,\n",
      "        0.10318173, -0.01800742, -0.02420307,  0.08939917,  0.21828878,\n",
      "        0.29124222,  0.32876274,  0.3635137 ,  0.02027297, -0.20249028,\n",
      "       -0.26612609, -0.10063512,  0.16838585,  0.36307983,  0.40127045,\n",
      "        0.31637054,  0.05762274, -0.12384503, -0.16908886,  0.03472215,\n",
      "        0.36133321,  0.57026599,  0.5112176 ,  0.22674092,  0.14703025,\n",
      "        0.12854578,  0.20524888,  0.46975612,  0.78106533,  0.8858744 ,\n",
      "        0.64243135,  0.14514885, -0.05009307, -0.21337402, -0.23266943,\n",
      "       -0.13477589,  0.14520705,  0.31673321,  0.11439891, -0.41085733,\n",
      "       -0.1195125 , -0.25850543, -0.10241461,  0.15576274,  0.40248359,\n",
      "        0.61990724,  0.54778701,  0.15683197,  0.27533591,  0.13642259,\n",
      "        0.1961197 ,  0.64964004,  0.87164525,  0.94599648,  0.84907053,\n",
      "        0.41487763,  0.88265458,  0.77705896,  0.63311058,  0.88249044,\n",
      "        1.04649304,  1.0545131 ,  0.98594011,  0.53329174,  1.34832345,\n",
      "        1.21845121,  0.97734168,  1.058959  ,  1.03404068,  0.91867694,\n",
      "        0.68020761,  0.21606019,  1.37226488,  1.17522628,  0.91003268,\n",
      "        0.86541059,  0.64292832,  0.41770171,  0.02428154, -0.34693524,\n",
      "        0.96718182,  0.6329652 ,  0.72135104,  0.45176636,  0.17078711,\n",
      "        0.00793983, -0.39678743, -0.7940869 ,  0.48011265,  0.11070191,\n",
      "        0.4309146 ,  0.21565166, -0.10308493, -0.4685627 , -0.73321141,\n",
      "       -0.86443434])\n"
     ]
    }
   ],
   "source": [
    "print(res)"
   ],
   "metadata": {
    "collapsed": false,
    "pycharm": {
     "name": "#%%\n"
    }
   }
  },
  {
   "cell_type": "code",
   "execution_count": 65,
   "outputs": [
    {
     "data": {
      "text/plain": "({'type': 'eq',\n  'fun': <function core.mne.build_tgs_constraints_var_utility.<locals>.create_func.<locals>.<lambda>(x)>},\n {'type': 'eq',\n  'fun': <function core.mne.build_tgs_constraints_var_utility.<locals>.create_func.<locals>.<lambda>(x)>},\n {'type': 'ineq',\n  'fun': <function core.mne.build_tgs_constraints_var_utility.<locals>.create_func.<locals>.<lambda>(x)>},\n {'type': 'ineq',\n  'fun': <function core.mne.build_tgs_constraints_var_utility.<locals>.create_func.<locals>.<lambda>(x)>},\n {'type': 'ineq',\n  'fun': <function core.mne.build_tgs_constraints_var_utility.<locals>.create_func.<locals>.<lambda>(x)>},\n {'type': 'ineq',\n  'fun': <function core.mne.build_tgs_constraints_var_utility.<locals>.create_func.<locals>.<lambda>(x)>},\n {'type': 'ineq',\n  'fun': <function core.mne.build_tgs_constraints_var_utility.<locals>.create_func.<locals>.<lambda>(x)>},\n {'type': 'ineq',\n  'fun': <function core.mne.build_tgs_constraints_var_utility.<locals>.create_func.<locals>.<lambda>(x)>},\n {'type': 'ineq',\n  'fun': <function core.mne.build_tgs_constraints_var_utility.<locals>.create_func.<locals>.<lambda>(x)>},\n {'type': 'ineq',\n  'fun': <function core.mne.build_tgs_constraints_var_utility.<locals>.create_func.<locals>.<lambda>(x)>},\n {'type': 'ineq',\n  'fun': <function core.mne.build_tgs_constraints_var_utility.<locals>.create_func.<locals>.<lambda>(x)>},\n {'type': 'ineq',\n  'fun': <function core.mne.build_tgs_constraints_var_utility.<locals>.create_func.<locals>.<lambda>(x)>},\n {'type': 'ineq',\n  'fun': <function core.mne.build_tgs_constraints_var_utility.<locals>.create_func.<locals>.<lambda>(x)>},\n {'type': 'ineq',\n  'fun': <function core.mne.build_tgs_constraints_var_utility.<locals>.create_func.<locals>.<lambda>(x)>},\n {'type': 'ineq',\n  'fun': <function core.mne.build_tgs_constraints_var_utility.<locals>.create_func.<locals>.<lambda>(x)>},\n {'type': 'ineq',\n  'fun': <function core.mne.build_tgs_constraints_var_utility.<locals>.create_func.<locals>.<lambda>(x)>},\n {'type': 'eq',\n  'fun': <function core.mne.build_tgs_constraints_var_utility.<locals>.<lambda>(x)>},\n {'type': 'eq',\n  'fun': <function core.mne.build_tgs_constraints_var_utility.<locals>.<lambda>(x)>},\n {'type': 'eq',\n  'fun': <function core.mne.build_tgs_constraints_var_utility.<locals>.<lambda>(x)>},\n {'type': 'eq',\n  'fun': <function core.mne.build_tgs_constraints_var_utility.<locals>.<lambda>(x)>})"
     },
     "execution_count": 65,
     "metadata": {},
     "output_type": "execute_result"
    }
   ],
   "source": [
    "cons"
   ],
   "metadata": {
    "collapsed": false,
    "pycharm": {
     "name": "#%%\n"
    }
   }
  },
  {
   "cell_type": "code",
   "execution_count": 67,
   "outputs": [
    {
     "name": "stdout",
     "output_type": "stream",
     "text": [
      "0.0\n",
      "-1.4724972045829645\n",
      "0.5428029041656828\n",
      "0.9368687469859793\n",
      "1.0981298746079275\n",
      "1.118044567104711\n",
      "1.0462069554848767\n",
      "0.839020802265722\n",
      "0.5234123857420201\n",
      "1.4764976681908593\n",
      "1.6979024015521986\n",
      "1.727562285755539\n",
      "1.6203307106304692\n",
      "1.4992473114081122\n",
      "1.6035492928685926\n",
      "1.9026815104684829\n",
      "[0. 0. 0. 0. 0. 0. 0.]\n",
      "[0. 0. 0. 0. 0. 0. 0.]\n",
      "0.0\n",
      "0.0\n"
     ]
    }
   ],
   "source": [
    "for con in cons:\n",
    "    #if con['type'] == 'ineq':\n",
    "    print(con['fun'](test_init))"
   ],
   "metadata": {
    "collapsed": false,
    "pycharm": {
     "name": "#%%\n"
    }
   }
  },
  {
   "cell_type": "code",
   "execution_count": 70,
   "outputs": [],
   "source": [
    "def get_start_end(row, agent, M1, M2):\n",
    "    \"\"\"\n",
    "\n",
    "    :param row: int. from 0 - (M1-1) if agent == 1, 0 - (M2-1) if agent == 2.\n",
    "    :param agent: int. either 1 or 2.\n",
    "    :param M1: int. Total number of actions for player 1.\n",
    "    :param M2: int. Total number of actions for player 2.\n",
    "    :return: tuple of ints.\n",
    "    \"\"\"\n",
    "    u1start = M1 + M2 + 2\n",
    "    u2start = u1start + M1 * M2\n",
    "    if agent == 1:\n",
    "        return u1start + row * M2, u1start + (row + 1) * M2 - 1\n",
    "    elif agent == 2:\n",
    "        return u2start + row * M1, u2start + (row + 1) * M1 - 1\n",
    "    else:\n",
    "        raise Exception(\"agent can only be 1 or 2\")"
   ],
   "metadata": {
    "collapsed": false,
    "pycharm": {
     "name": "#%%\n"
    }
   }
  },
  {
   "cell_type": "code",
   "execution_count": 71,
   "outputs": [
    {
     "data": {
      "text/plain": "(122, 129)"
     },
     "execution_count": 71,
     "metadata": {},
     "output_type": "execute_result"
    }
   ],
   "source": [
    "get_start_end(5, 2, 8, 8)"
   ],
   "metadata": {
    "collapsed": false,
    "pycharm": {
     "name": "#%%\n"
    }
   }
  },
  {
   "cell_type": "code",
   "execution_count": 73,
   "outputs": [
    {
     "data": {
      "text/plain": "array([-0.04609261,  0.40093161,  0.91003268,  1.1669523 ,  0.98192291,\n        0.41770171, -0.23980807, -0.63121686])"
     },
     "execution_count": 73,
     "metadata": {},
     "output_type": "execute_result"
    }
   ],
   "source": [
    "test_init[122:130]"
   ],
   "metadata": {
    "collapsed": false,
    "pycharm": {
     "name": "#%%\n"
    }
   }
  },
  {
   "cell_type": "code",
   "execution_count": 74,
   "outputs": [
    {
     "data": {
      "text/plain": "array([1.4264046 , 1.22064669, 0.94599648, 0.73892178, 0.58289666,\n       0.41770171, 0.24520124, 0.08134611])"
     },
     "execution_count": 74,
     "metadata": {},
     "output_type": "execute_result"
    }
   ],
   "source": [
    "U2[:, 5]"
   ],
   "metadata": {
    "collapsed": false,
    "pycharm": {
     "name": "#%%\n"
    }
   }
  }
 ],
 "metadata": {
  "kernelspec": {
   "display_name": "Python 3 (ipykernel)",
   "language": "python",
   "name": "python3"
  },
  "language_info": {
   "codemirror_mode": {
    "name": "ipython",
    "version": 3
   },
   "file_extension": ".py",
   "mimetype": "text/x-python",
   "name": "python",
   "nbconvert_exporter": "python",
   "pygments_lexer": "ipython3",
   "version": "3.7.11"
  }
 },
 "nbformat": 4,
 "nbformat_minor": 5
}