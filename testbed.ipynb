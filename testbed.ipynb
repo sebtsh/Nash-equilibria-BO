{
 "cells": [
  {
   "cell_type": "code",
   "execution_count": null,
   "id": "94a46532",
   "metadata": {},
   "outputs": [],
   "source": [
    "import numpy as np\n",
    "import tensorflow as tf\n",
    "import gpflow as gpf\n",
    "import matplotlib.pyplot as plt\n",
    "from core.objectives import sample_GP_prior_utilities"
   ]
  },
  {
   "cell_type": "code",
   "execution_count": null,
   "id": "26037bf6",
   "metadata": {},
   "outputs": [],
   "source": [
    "seed = 0\n",
    "rng = np.random.default_rng(seed)\n",
    "tf.random.set_seed(seed)\n",
    "kernel = gpf.kernels.SquaredExponential(lengthscales=[0.1, 0.1])\n",
    "lowers = [0., 0.]\n",
    "uppers = [1., 1.]\n",
    "num_agents = 2\n",
    "num_actions = 8"
   ]
  },
  {
   "cell_type": "code",
   "execution_count": null,
   "id": "94a92538",
   "metadata": {},
   "outputs": [],
   "source": [
    "u = sample_GP_prior_utilities(num_agents,\n",
    "                              kernel,\n",
    "                              lowers,\n",
    "                              uppers,\n",
    "                              num_points=100,\n",
    "                              rng=rng)"
   ]
  },
  {
   "cell_type": "code",
   "execution_count": null,
   "id": "09a74b73",
   "metadata": {},
   "outputs": [],
   "source": [
    "from core.utils import combinations\n",
    "from pathlib import Path\n",
    "\n",
    "def plot_utilities_2d(u,\n",
    "                      xlims,\n",
    "                      ylims,\n",
    "                      num_actions,\n",
    "                      title=\"\",\n",
    "                      cmap=\"Spectral\",\n",
    "                      save=False,\n",
    "                      save_dir=\"\",\n",
    "                      filename=\"\",\n",
    "                      show_plot=True):\n",
    "    xmin, xmax = xlims\n",
    "    ymin, ymax = ylims\n",
    "    xdomain = np.linspace(xmin, xmax, num_actions)[:, None]\n",
    "    ydomain = np.linspace(ymin, ymax, num_actions)[:, None]\n",
    "    combs = combinations(xdomain, ydomain)\n",
    "    xlabel = 'Agent 1 actions'\n",
    "    ylabel = 'Agent 2 actions'\n",
    "\n",
    "    u1_vals = u[0](combs)\n",
    "    u1_reshaped = np.transpose(\n",
    "        np.reshape(u1_vals, [num_actions, num_actions]))\n",
    "    u2_vals = u[1](combs)\n",
    "    u2_reshaped = np.transpose(\n",
    "        np.reshape(u2_vals, [num_actions, num_actions]))\n",
    "\n",
    "    fig, (ax1, ax2) = plt.subplots(1, 2)\n",
    "    fig.suptitle(title, size=20)\n",
    "    fig.set_size_inches(8, 4)\n",
    "    fig.set_dpi(200)\n",
    "\n",
    "    im1 = ax1.imshow(u1_reshaped,\n",
    "                     interpolation='nearest',\n",
    "                     extent=(xmin, xmax, ymin, ymax),\n",
    "                     origin='lower',\n",
    "                     cmap=cmap,\n",
    "                     aspect=(xmax - xmin) / (ymax - ymin))\n",
    "    # ax1.plot(inputs[:, 0], inputs[:, 1], 'ko', mew=2)\n",
    "    # ax1.plot(*mean_stationary, marker='*', markersize=20, color='white')\n",
    "    ax1.set_title(\"Agent 1 utility\", size=16)\n",
    "    ax1.set_xlabel(xlabel, size=12)\n",
    "    ax1.set_ylabel(ylabel, size=12)\n",
    "    fig.colorbar(im1, ax=ax1)\n",
    "\n",
    "    im2 = ax2.imshow(u2_reshaped,\n",
    "                     interpolation='nearest',\n",
    "                     extent=(xmin, xmax, ymin, ymax),\n",
    "                     origin='lower',\n",
    "                     cmap=cmap,\n",
    "                     aspect=(xmax - xmin) / (ymax - ymin))\n",
    "    # ax2.plot(inputs[:, 0], inputs[:, 1], 'ko', mew=2)\n",
    "    # ax2.plot(*f_std_argmin, marker='*', markersize=20, color='white')\n",
    "    ax2.set_title(\"Agent 2 utility\", size=16)\n",
    "    ax2.set_xlabel(xlabel, size=12)\n",
    "    ax2.set_ylabel(ylabel, size=12)\n",
    "    fig.colorbar(im2, ax=ax2)\n",
    "    fig.tight_layout()\n",
    "\n",
    "    if save:\n",
    "        Path(save_dir).mkdir(parents=True, exist_ok=True)\n",
    "        plt.savefig(save_dir + filename, bbox_inches='tight')\n",
    "\n",
    "    if show_plot:\n",
    "        plt.show()"
   ]
  },
  {
   "cell_type": "code",
   "execution_count": null,
   "id": "effa5f63",
   "metadata": {
    "scrolled": false
   },
   "outputs": [],
   "source": [
    "plot_utilities_2d(u,\n",
    "                  (lowers[0], uppers[0]),\n",
    "                  (lowers[1], uppers[1]),\n",
    "                  num_actions)"
   ]
  },
  {
   "cell_type": "code",
   "execution_count": null,
   "id": "cc2d2cfd",
   "metadata": {},
   "outputs": [],
   "source": [
    "xmin, xmax = 0, 1\n",
    "ymin, ymax = 0, 1\n",
    "xdomain = np.linspace(xmin, xmax, num_actions)[:, None]\n",
    "ydomain = np.linspace(ymin, ymax, num_actions)[:, None]\n",
    "combs = combinations(xdomain, ydomain)\n",
    "actions = np.squeeze(xdomain)"
   ]
  },
  {
   "cell_type": "code",
   "execution_count": null,
   "id": "b8a582cd",
   "metadata": {},
   "outputs": [],
   "source": [
    "def join_action(s,\n",
    "                i,\n",
    "                actions):\n",
    "    \"\"\"\n",
    "    Given a strategy profile s, fixes the actions of all other agents, and replaces the action of the i-th agent\n",
    "    with all possible actions.\n",
    "    :param s: Array of shape (N, ). Strategy profile.\n",
    "    :param i: int. Agent.\n",
    "    :param actions: Array of shape (M, ). All possible actions.\n",
    "    :return: Array of shape (M, N).\n",
    "    \"\"\"\n",
    "    M = len(actions)\n",
    "    joined = np.tile(s[None, :], (M, 1))\n",
    "    joined[:, i] = actions\n",
    "    return joined"
   ]
  },
  {
   "cell_type": "code",
   "execution_count": null,
   "id": "6aedc68d",
   "metadata": {},
   "outputs": [],
   "source": [
    "def best_response_payoff_pure(u,\n",
    "                              S,\n",
    "                              actions):\n",
    "    \"\"\"\n",
    "    Calculates the best response payoff for each pure strategy profile in S, for each agent.\n",
    "    :param u: List of utility functions.\n",
    "    :param S: array of shape (M ** N, N). All possible pure strategy profiles of the N agents.\n",
    "    :param actions: array of shape (M, ). All possible M actions.\n",
    "    :return: array of shape (M ** N, N).\n",
    "    \"\"\"\n",
    "    M = len(actions)\n",
    "    _, N = S.shape\n",
    "    brp = np.zeros((M ** N, N))\n",
    "\n",
    "    for i in range(N):\n",
    "        for j in range(len(S)):\n",
    "            s = S[j]\n",
    "            joined = join_action(s, i, actions)\n",
    "            best_util = np.max(u[i](joined))\n",
    "            current_util = u[i](s[None, :])\n",
    "            brp[j, i] = best_util - current_util\n",
    "    \n",
    "    return brp"
   ]
  },
  {
   "cell_type": "code",
   "execution_count": null,
   "id": "36ca11de",
   "metadata": {},
   "outputs": [],
   "source": [
    "brp = best_response_payoff_pure(u, combs, actions)"
   ]
  },
  {
   "cell_type": "code",
   "execution_count": null,
   "id": "b6c717b4",
   "metadata": {},
   "outputs": [],
   "source": [
    "def plot_brp_2d(brp,\n",
    "                xlims,\n",
    "                ylims,\n",
    "                actions,\n",
    "                title=\"\",\n",
    "                cmap=\"Spectral\",\n",
    "                save=False,\n",
    "                save_dir=\"\",\n",
    "                filename=\"\",\n",
    "                show_plot=True):\n",
    "    xmin, xmax = xlims\n",
    "    ymin, ymax = ylims\n",
    "    num_actions = len(actions)\n",
    "    xlabel = 'Agent 1 actions'\n",
    "    ylabel = 'Agent 2 actions'\n",
    "    \n",
    "    brp_max = np.max(brp, axis=1)\n",
    "    brp_max_reshaped = np.transpose(\n",
    "        np.reshape(brp_max, [num_actions, num_actions]))\n",
    "\n",
    "    fig, (ax1) = plt.subplots(1, 1)\n",
    "    fig.suptitle(title, size=12)\n",
    "    fig.set_size_inches(6, 3)\n",
    "    fig.set_dpi(200)\n",
    "\n",
    "    im1 = ax1.imshow(brp_max_reshaped,\n",
    "                     interpolation='nearest',\n",
    "                     extent=(xmin, xmax, ymin, ymax),\n",
    "                     origin='lower',\n",
    "                     cmap=cmap,\n",
    "                     aspect=(xmax - xmin) / (ymax - ymin))\n",
    "    # ax1.plot(inputs[:, 0], inputs[:, 1], 'ko', mew=2)\n",
    "    # ax1.plot(*mean_stationary, marker='*', markersize=20, color='white')\n",
    "    ax1.set_title(\"Max best response payoff\", size=12)\n",
    "    ax1.set_xlabel(xlabel, size=8)\n",
    "    ax1.set_ylabel(ylabel, size=8)\n",
    "    fig.colorbar(im1, ax=ax1)\n",
    "    \n",
    "    fig.tight_layout()\n",
    "    if save:\n",
    "        Path(save_dir).mkdir(parents=True, exist_ok=True)\n",
    "        plt.savefig(save_dir + filename, bbox_inches='tight')\n",
    "    if show_plot:\n",
    "        plt.show()"
   ]
  },
  {
   "cell_type": "code",
   "execution_count": null,
   "id": "9177f010",
   "metadata": {},
   "outputs": [],
   "source": [
    "np.min(np.max(brp, axis=1))"
   ]
  },
  {
   "cell_type": "code",
   "execution_count": null,
   "id": "4e693123",
   "metadata": {
    "scrolled": false
   },
   "outputs": [],
   "source": [
    "plot_brp_2d(brp, \n",
    "            (lowers[0], uppers[0]),   \n",
    "            (lowers[1], uppers[1]),\n",
    "            actions)"
   ]
  }
 ],
 "metadata": {
  "kernelspec": {
   "display_name": "Python 3 (ipykernel)",
   "language": "python",
   "name": "python3"
  },
  "language_info": {
   "codemirror_mode": {
    "name": "ipython",
    "version": 3
   },
   "file_extension": ".py",
   "mimetype": "text/x-python",
   "name": "python",
   "nbconvert_exporter": "python",
   "pygments_lexer": "ipython3",
   "version": "3.7.11"
  }
 },
 "nbformat": 4,
 "nbformat_minor": 5
}
