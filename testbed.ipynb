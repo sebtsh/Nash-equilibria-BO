{
 "cells": [
  {
   "cell_type": "code",
   "execution_count": null,
   "id": "94a46532",
   "metadata": {},
   "outputs": [],
   "source": [
    "import numpy as np\n",
    "import tensorflow as tf\n",
    "import gpflow as gpf\n",
    "import matplotlib.pyplot as plt\n",
    "from core.objectives import sample_GP_prior_utilities"
   ]
  },
  {
   "cell_type": "code",
   "execution_count": null,
   "id": "26037bf6",
   "metadata": {},
   "outputs": [],
   "source": [
    "seed = 0\n",
    "rng = np.random.default_rng(seed)\n",
    "tf.random.set_seed(seed)\n",
    "kernel = gpf.kernels.SquaredExponential(lengthscales=[0.1, 0.1])\n",
    "lowers = [0., 0.]\n",
    "uppers = [1., 1.]\n",
    "num_agents = 2\n",
    "num_actions = 8"
   ]
  },
  {
   "cell_type": "code",
   "execution_count": null,
   "id": "94a92538",
   "metadata": {},
   "outputs": [],
   "source": [
    "u = sample_GP_prior_utilities(num_agents,\n",
    "                              kernel,\n",
    "                              lowers,\n",
    "                              uppers,\n",
    "                              num_points=100,\n",
    "                              rng=rng)"
   ]
  },
  {
   "cell_type": "code",
   "execution_count": null,
   "id": "09a74b73",
   "metadata": {},
   "outputs": [],
   "source": [
    "from core.utils import combinations\n",
    "from pathlib import Path\n",
    "\n",
    "def plot_utilities_2d(u,\n",
    "                      xlims,\n",
    "                      ylims,\n",
    "                      num_actions,\n",
    "                      title=\"\",\n",
    "                      cmap=\"Spectral\",\n",
    "                      save=False,\n",
    "                      save_dir=\"\",\n",
    "                      filename=\"\",\n",
    "                      show_plot=True):\n",
    "    xmin, xmax = xlims\n",
    "    ymin, ymax = ylims\n",
    "    xdomain = np.linspace(xmin, xmax, num_actions)[:, None]\n",
    "    ydomain = np.linspace(ymin, ymax, num_actions)[:, None]\n",
    "    combs = combinations(xdomain, ydomain)\n",
    "    xlabel = 'Agent 1 actions'\n",
    "    ylabel = 'Agent 2 actions'\n",
    "\n",
    "    u1_vals = u[0](combs)\n",
    "    u1_reshaped = np.transpose(\n",
    "        np.reshape(u1_vals, [num_actions, num_actions]))\n",
    "    u2_vals = u[1](combs)\n",
    "    u2_reshaped = np.transpose(\n",
    "        np.reshape(u2_vals, [num_actions, num_actions]))\n",
    "\n",
    "    fig, (ax1, ax2) = plt.subplots(1, 2)\n",
    "    fig.suptitle(title, size=20)\n",
    "    fig.set_size_inches(8, 4)\n",
    "    fig.set_dpi(200)\n",
    "\n",
    "    im1 = ax1.imshow(u1_reshaped,\n",
    "                     interpolation='nearest',\n",
    "                     extent=(xmin, xmax, ymin, ymax),\n",
    "                     origin='lower',\n",
    "                     cmap=cmap,\n",
    "                     aspect=(xmax - xmin) / (ymax - ymin))\n",
    "    # ax1.plot(inputs[:, 0], inputs[:, 1], 'ko', mew=2)\n",
    "    # ax1.plot(*mean_stationary, marker='*', markersize=20, color='white')\n",
    "    ax1.set_title(\"Agent 1 utility\", size=16)\n",
    "    ax1.set_xlabel(xlabel, size=12)\n",
    "    ax1.set_ylabel(ylabel, size=12)\n",
    "    fig.colorbar(im1, ax=ax1)\n",
    "\n",
    "    im2 = ax2.imshow(u2_reshaped,\n",
    "                     interpolation='nearest',\n",
    "                     extent=(xmin, xmax, ymin, ymax),\n",
    "                     origin='lower',\n",
    "                     cmap=cmap,\n",
    "                     aspect=(xmax - xmin) / (ymax - ymin))\n",
    "    # ax2.plot(inputs[:, 0], inputs[:, 1], 'ko', mew=2)\n",
    "    # ax2.plot(*f_std_argmin, marker='*', markersize=20, color='white')\n",
    "    ax2.set_title(\"Agent 2 utility\", size=16)\n",
    "    ax2.set_xlabel(xlabel, size=12)\n",
    "    ax2.set_ylabel(ylabel, size=12)\n",
    "    fig.colorbar(im2, ax=ax2)\n",
    "    fig.tight_layout()\n",
    "\n",
    "    if save:\n",
    "        Path(save_dir).mkdir(parents=True, exist_ok=True)\n",
    "        plt.savefig(save_dir + filename, bbox_inches='tight')\n",
    "\n",
    "    if show_plot:\n",
    "        plt.show()"
   ]
  },
  {
   "cell_type": "code",
   "execution_count": null,
   "id": "effa5f63",
   "metadata": {
    "scrolled": false
   },
   "outputs": [],
   "source": [
    "plot_utilities_2d(u,\n",
    "                  (lowers[0], uppers[0]),\n",
    "                  (lowers[1], uppers[1]),\n",
    "                  num_actions)"
   ]
  },
  {
   "cell_type": "code",
   "execution_count": null,
   "id": "cc2d2cfd",
   "metadata": {},
   "outputs": [],
   "source": [
    "xmin, xmax = 0, 1\n",
    "ymin, ymax = 0, 1\n",
    "xdomain = np.linspace(xmin, xmax, num_actions)[:, None]\n",
    "ydomain = np.linspace(ymin, ymax, num_actions)[:, None]\n",
    "combs = combinations(xdomain, ydomain)\n",
    "actions = np.squeeze(xdomain)"
   ]
  },
  {
   "cell_type": "code",
   "execution_count": null,
   "id": "b8a582cd",
   "metadata": {},
   "outputs": [],
   "source": [
    "def join_action(s,\n",
    "                i,\n",
    "                actions):\n",
    "    \"\"\"\n",
    "    Given a strategy profile s, fixes the actions of all other agents, and replaces the action of the i-th agent\n",
    "    with all possible actions.\n",
    "    :param s: Array of shape (N, ). Strategy profile.\n",
    "    :param i: int. Agent.\n",
    "    :param actions: Array of shape (M, ). All possible actions.\n",
    "    :return: Array of shape (M, N).\n",
    "    \"\"\"\n",
    "    M = len(actions)\n",
    "    joined = np.tile(s[None, :], (M, 1))\n",
    "    joined[:, i] = actions\n",
    "    return joined"
   ]
  },
  {
   "cell_type": "code",
   "execution_count": null,
   "id": "6aedc68d",
   "metadata": {},
   "outputs": [],
   "source": [
    "def best_response_payoff_pure(u,\n",
    "                              S,\n",
    "                              actions):\n",
    "    \"\"\"\n",
    "    Calculates the best response payoff for each pure strategy profile in S, for each agent.\n",
    "    :param u: List of utility functions.\n",
    "    :param S: array of shape (M ** N, N). All possible pure strategy profiles of the N agents.\n",
    "    :param actions: array of shape (M, ). All possible M actions.\n",
    "    :return: array of shape (M ** N, N).\n",
    "    \"\"\"\n",
    "    M = len(actions)\n",
    "    _, N = S.shape\n",
    "    brp = np.zeros((M ** N, N))\n",
    "\n",
    "    for i in range(N):\n",
    "        for j in range(len(S)):\n",
    "            s = S[j]\n",
    "            joined = join_action(s, i, actions)\n",
    "            best_util = np.max(u[i](joined))\n",
    "            current_util = u[i](s[None, :])\n",
    "            brp[j, i] = best_util - current_util\n",
    "    \n",
    "    return brp"
   ]
  },
  {
   "cell_type": "code",
   "execution_count": null,
   "id": "36ca11de",
   "metadata": {},
   "outputs": [],
   "source": [
    "brp = best_response_payoff_pure(u, combs, actions)"
   ]
  },
  {
   "cell_type": "code",
   "execution_count": null,
   "id": "b6c717b4",
   "metadata": {},
   "outputs": [],
   "source": [
    "def plot_brp_2d(brp,\n",
    "                xlims,\n",
    "                ylims,\n",
    "                actions,\n",
    "                title=\"\",\n",
    "                cmap=\"Spectral\",\n",
    "                save=False,\n",
    "                save_dir=\"\",\n",
    "                filename=\"\",\n",
    "                show_plot=True):\n",
    "    xmin, xmax = xlims\n",
    "    ymin, ymax = ylims\n",
    "    num_actions = len(actions)\n",
    "    xlabel = 'Agent 1 actions'\n",
    "    ylabel = 'Agent 2 actions'\n",
    "    \n",
    "    brp_max = np.max(brp, axis=1)\n",
    "    brp_max_reshaped = np.transpose(\n",
    "        np.reshape(brp_max, [num_actions, num_actions]))\n",
    "\n",
    "    fig, (ax1) = plt.subplots(1, 1)\n",
    "    fig.suptitle(title, size=12)\n",
    "    fig.set_size_inches(6, 3)\n",
    "    fig.set_dpi(200)\n",
    "\n",
    "    im1 = ax1.imshow(brp_max_reshaped,\n",
    "                     interpolation='nearest',\n",
    "                     extent=(xmin, xmax, ymin, ymax),\n",
    "                     origin='lower',\n",
    "                     cmap=cmap,\n",
    "                     aspect=(xmax - xmin) / (ymax - ymin))\n",
    "    # ax1.plot(inputs[:, 0], inputs[:, 1], 'ko', mew=2)\n",
    "    # ax1.plot(*mean_stationary, marker='*', markersize=20, color='white')\n",
    "    ax1.set_title(\"Max best response payoff\", size=12)\n",
    "    ax1.set_xlabel(xlabel, size=8)\n",
    "    ax1.set_ylabel(ylabel, size=8)\n",
    "    fig.colorbar(im1, ax=ax1)\n",
    "    \n",
    "    fig.tight_layout()\n",
    "    if save:\n",
    "        Path(save_dir).mkdir(parents=True, exist_ok=True)\n",
    "        plt.savefig(save_dir + filename, bbox_inches='tight')\n",
    "    if show_plot:\n",
    "        plt.show()"
   ]
  },
  {
   "cell_type": "code",
   "execution_count": null,
   "id": "9177f010",
   "metadata": {},
   "outputs": [],
   "source": [
    "np.min(np.max(brp, axis=1))"
   ]
  },
  {
   "cell_type": "code",
   "execution_count": null,
   "id": "4e693123",
   "metadata": {
    "scrolled": true
   },
   "outputs": [],
   "source": [
    "plot_brp_2d(brp, \n",
    "            (lowers[0], uppers[0]),   \n",
    "            (lowers[1], uppers[1]),\n",
    "            actions)"
   ]
  },
  {
   "cell_type": "code",
   "execution_count": null,
   "id": "777fd9c2",
   "metadata": {},
   "outputs": [],
   "source": []
  },
  {
   "cell_type": "code",
   "execution_count": null,
   "id": "274ccb56",
   "metadata": {},
   "outputs": [],
   "source": []
  },
  {
   "cell_type": "code",
   "execution_count": null,
   "id": "0c912022",
   "metadata": {},
   "outputs": [],
   "source": [
    "import numpy as np\n",
    "import tensorflow as tf\n",
    "import gpflow as gpf\n",
    "from core.objectives import sample_GP_prior_utilities, noisy_observer\n",
    "from core.models import create_models\n",
    "from core.utils import cross_product\n",
    "\n",
    "\n",
    "seed = 0\n",
    "rng = np.random.default_rng(seed)\n",
    "tf.random.set_seed(seed)\n",
    "num_agents = 2\n",
    "num_actions = 8\n",
    "ls = np.array([0.1] * num_agents)\n",
    "lowers = [0.] * num_agents\n",
    "uppers = [1.] * num_agents\n",
    "noise_variance = 0.1\n",
    "num_init_points = 30\n",
    "\n",
    "actions = np.linspace(lowers[0], uppers[0], num_actions)\n",
    "domain = actions[:, None]\n",
    "for i in range(1, num_agents):\n",
    "    next_actions = np.linspace(lowers[i], uppers[i], num_actions)\n",
    "    domain = cross_product(domain, next_actions[:, None])\n",
    "\n",
    "kernel = gpf.kernels.SquaredExponential(lengthscales=ls)\n",
    "u = sample_GP_prior_utilities(num_agents,\n",
    "                              kernel,\n",
    "                              lowers,\n",
    "                              uppers,\n",
    "                              num_points=100,\n",
    "                              rng=rng)\n",
    "observer = noisy_observer(u=u,\n",
    "                          noise_variance=noise_variance,\n",
    "                          rng=rng)\n",
    "init_idxs = rng.integers(low=0, high=num_actions ** num_agents, size=num_init_points)\n",
    "init_X = domain[init_idxs]\n",
    "init_data = (init_X, observer(init_X))\n",
    "\n",
    "models = create_models(data=init_data,\n",
    "                       kernel=kernel,\n",
    "                       noise_variance=noise_variance)\n"
   ]
  },
  {
   "cell_type": "code",
   "execution_count": null,
   "id": "b0f9a40a",
   "metadata": {},
   "outputs": [],
   "source": [
    "import matplotlib.pyplot as plt\n",
    "\n",
    "def plot_models_2d(models,\n",
    "                   xlims,\n",
    "                   ylims,\n",
    "                   actions,\n",
    "                   domain,\n",
    "                   X=None,\n",
    "                   title=\"\",\n",
    "                   cmap=\"Spectral\",\n",
    "                   save=False,\n",
    "                   save_dir=\"\",\n",
    "                   filename=\"\",\n",
    "                   show_plot=True):\n",
    "    xmin, xmax = xlims\n",
    "    ymin, ymax = ylims\n",
    "    num_actions = len(actions)\n",
    "    xlabel = 'Agent 1 actions'\n",
    "    ylabel = 'Agent 2 actions'\n",
    "\n",
    "    g1_mean, g1_var = models[0].predict_f(domain)\n",
    "    g1_mean_reshaped = np.transpose(\n",
    "        np.reshape(g1_mean, [num_actions, num_actions]))\n",
    "    g1_var_reshaped = np.transpose(\n",
    "        np.reshape(g1_var, [num_actions, num_actions]))\n",
    "    g2_mean, g2_var = models[1].predict_f(domain)\n",
    "    g2_mean_reshaped = np.transpose(\n",
    "        np.reshape(g2_mean, [num_actions, num_actions]))\n",
    "    g2_var_reshaped = np.transpose(\n",
    "        np.reshape(g2_var, [num_actions, num_actions]))\n",
    "\n",
    "    fig, axs = plt.subplots(2, 2)\n",
    "    fig.suptitle(title, size=10)\n",
    "    fig.set_size_inches(5, 4)\n",
    "    fig.set_dpi(200)\n",
    "    \n",
    "    offset = (1/num_actions) / 2\n",
    "    for i in range(2):\n",
    "        for j in range(2):\n",
    "            if i == 0:\n",
    "                if j == 0:\n",
    "                    f = g1_mean_reshaped\n",
    "                    title = \"Agent 1 GP mean\"\n",
    "                elif j == 1:\n",
    "                    f = g2_mean_reshaped\n",
    "                    title = \"Agent 2 GP mean\"\n",
    "            elif i == 1:\n",
    "                if j == 0:\n",
    "                    f = g1_var_reshaped\n",
    "                    title = \"Agent 1 GP variance\"\n",
    "                elif j == 1:\n",
    "                    f = g2_var_reshaped\n",
    "                    title = \"Agent 2 GP variance\"\n",
    "            ax = axs[i, j]\n",
    "            im = ax.imshow(f,\n",
    "                           interpolation='None',\n",
    "                           extent=(xmin-offset, xmax+offset, ymin-offset, ymax+offset),\n",
    "                           origin='lower',\n",
    "                           cmap=cmap,\n",
    "                           aspect=(xmax - xmin) / (ymax - ymin))\n",
    "            if X is not None:\n",
    "                ax.plot(X[:, 0], X[:, 1], 'x', mew=1, c='black')\n",
    "            ax.set_title(title, size=8)\n",
    "            ax.set_xlabel(xlabel, size=8)\n",
    "            ax.set_ylabel(ylabel, size=8)\n",
    "            fig.colorbar(im, ax=ax)\n",
    "\n",
    "    fig.tight_layout()\n",
    "    if save:\n",
    "        Path(save_dir).mkdir(parents=True, exist_ok=True)\n",
    "        plt.savefig(save_dir + filename, bbox_inches='tight')\n",
    "    if show_plot:\n",
    "        plt.show()\n"
   ]
  },
  {
   "cell_type": "code",
   "execution_count": null,
   "id": "2d2a1bec",
   "metadata": {
    "scrolled": false
   },
   "outputs": [],
   "source": [
    "plot_models_2d(models, \n",
    "            (lowers[0], uppers[0]),   \n",
    "            (lowers[1], uppers[1]),\n",
    "            actions,\n",
    "               domain,\n",
    "              domain[:8])"
   ]
  },
  {
   "cell_type": "code",
   "execution_count": null,
   "id": "67594b4f",
   "metadata": {},
   "outputs": [],
   "source": [
    "from metrics.plotting import plot_utilities_2d"
   ]
  },
  {
   "cell_type": "code",
   "execution_count": null,
   "id": "ac1ed7cb",
   "metadata": {},
   "outputs": [],
   "source": [
    "plot_utilities_2d(u,\n",
    "                  (lowers[0], uppers[0]),\n",
    "                  (lowers[1], uppers[1]),\n",
    "                  actions)"
   ]
  },
  {
   "cell_type": "code",
   "execution_count": null,
   "id": "46acf6b3",
   "metadata": {},
   "outputs": [],
   "source": [
    "models[0].predict_f(combs)"
   ]
  },
  {
   "cell_type": "code",
   "execution_count": null,
   "id": "20e8da6d",
   "metadata": {},
   "outputs": [],
   "source": []
  },
  {
   "cell_type": "code",
   "execution_count": null,
   "id": "cf8c094f",
   "metadata": {},
   "outputs": [],
   "source": [
    "xdomain = actions[:, None]\n",
    "ydomain = actions[:, None]\n",
    "num_actions = len(actions)\n",
    "combs = combinations(xdomain, ydomain)"
   ]
  },
  {
   "cell_type": "code",
   "execution_count": null,
   "id": "943413c9",
   "metadata": {},
   "outputs": [],
   "source": []
  },
  {
   "cell_type": "code",
   "execution_count": null,
   "id": "9d2bd189",
   "metadata": {
    "scrolled": true
   },
   "outputs": [],
   "source": [
    "combs"
   ]
  },
  {
   "cell_type": "code",
   "execution_count": null,
   "id": "dea6347e",
   "metadata": {},
   "outputs": [],
   "source": [
    "def cross_product(x, y):\n",
    "    \"\"\"\n",
    "\n",
    "    :param x: array of shape (m, d_x)\n",
    "    :param y: array of shape (n, d_y)\n",
    "    :return:  array of shape (m * n, d_x + d_y)\n",
    "    \"\"\"\n",
    "    m, d_x = x.shape\n",
    "    n, d_y = y.shape\n",
    "    x_temp = np.tile(x[:, :, None], (1, n, 1))\n",
    "    x_temp = np.reshape(x_temp, [m * n, d_x])\n",
    "    y_temp = np.tile(y, (m, 1))\n",
    "    return np.concatenate([x_temp, y_temp], axis=-1)"
   ]
  },
  {
   "cell_type": "code",
   "execution_count": null,
   "id": "02bbe0f0",
   "metadata": {},
   "outputs": [],
   "source": [
    "np.allclose(cross_product(xdomain, ydomain), combs)"
   ]
  },
  {
   "cell_type": "code",
   "execution_count": null,
   "id": "551d8769",
   "metadata": {},
   "outputs": [],
   "source": []
  },
  {
   "cell_type": "code",
   "execution_count": 42,
   "id": "08aad14b",
   "metadata": {},
   "outputs": [],
   "source": [
    "actions = np.linspace(lowers[0], uppers[0], num_actions)\n",
    "domain = actions[:, None]\n",
    "for i in range(1, num_agents):\n",
    "    next_actions = np.linspace(lowers[i], uppers[i], num_actions)\n",
    "    domain = cross_product(domain, next_actions[:, None])"
   ]
  },
  {
   "cell_type": "code",
   "execution_count": 43,
   "id": "80d1c6a4",
   "metadata": {
    "scrolled": true
   },
   "outputs": [
    {
     "data": {
      "text/plain": [
       "array([[0.        , 0.        ],\n",
       "       [0.        , 0.14285714],\n",
       "       [0.        , 0.28571429],\n",
       "       [0.        , 0.42857143],\n",
       "       [0.        , 0.57142857],\n",
       "       [0.        , 0.71428571],\n",
       "       [0.        , 0.85714286],\n",
       "       [0.        , 1.        ],\n",
       "       [0.14285714, 0.        ],\n",
       "       [0.14285714, 0.14285714],\n",
       "       [0.14285714, 0.28571429],\n",
       "       [0.14285714, 0.42857143],\n",
       "       [0.14285714, 0.57142857],\n",
       "       [0.14285714, 0.71428571],\n",
       "       [0.14285714, 0.85714286],\n",
       "       [0.14285714, 1.        ],\n",
       "       [0.28571429, 0.        ],\n",
       "       [0.28571429, 0.14285714],\n",
       "       [0.28571429, 0.28571429],\n",
       "       [0.28571429, 0.42857143],\n",
       "       [0.28571429, 0.57142857],\n",
       "       [0.28571429, 0.71428571],\n",
       "       [0.28571429, 0.85714286],\n",
       "       [0.28571429, 1.        ],\n",
       "       [0.42857143, 0.        ],\n",
       "       [0.42857143, 0.14285714],\n",
       "       [0.42857143, 0.28571429],\n",
       "       [0.42857143, 0.42857143],\n",
       "       [0.42857143, 0.57142857],\n",
       "       [0.42857143, 0.71428571],\n",
       "       [0.42857143, 0.85714286],\n",
       "       [0.42857143, 1.        ],\n",
       "       [0.57142857, 0.        ],\n",
       "       [0.57142857, 0.14285714],\n",
       "       [0.57142857, 0.28571429],\n",
       "       [0.57142857, 0.42857143],\n",
       "       [0.57142857, 0.57142857],\n",
       "       [0.57142857, 0.71428571],\n",
       "       [0.57142857, 0.85714286],\n",
       "       [0.57142857, 1.        ],\n",
       "       [0.71428571, 0.        ],\n",
       "       [0.71428571, 0.14285714],\n",
       "       [0.71428571, 0.28571429],\n",
       "       [0.71428571, 0.42857143],\n",
       "       [0.71428571, 0.57142857],\n",
       "       [0.71428571, 0.71428571],\n",
       "       [0.71428571, 0.85714286],\n",
       "       [0.71428571, 1.        ],\n",
       "       [0.85714286, 0.        ],\n",
       "       [0.85714286, 0.14285714],\n",
       "       [0.85714286, 0.28571429],\n",
       "       [0.85714286, 0.42857143],\n",
       "       [0.85714286, 0.57142857],\n",
       "       [0.85714286, 0.71428571],\n",
       "       [0.85714286, 0.85714286],\n",
       "       [0.85714286, 1.        ],\n",
       "       [1.        , 0.        ],\n",
       "       [1.        , 0.14285714],\n",
       "       [1.        , 0.28571429],\n",
       "       [1.        , 0.42857143],\n",
       "       [1.        , 0.57142857],\n",
       "       [1.        , 0.71428571],\n",
       "       [1.        , 0.85714286],\n",
       "       [1.        , 1.        ]])"
      ]
     },
     "execution_count": 43,
     "metadata": {},
     "output_type": "execute_result"
    }
   ],
   "source": [
    "domain"
   ]
  },
  {
   "cell_type": "code",
   "execution_count": 46,
   "id": "d3720073",
   "metadata": {},
   "outputs": [
    {
     "data": {
      "text/plain": [
       "(array([ 0,  1,  1,  2,  3,  4,  5,  6,  7,  9, 17, 25, 33, 41, 49, 57],\n",
       "       dtype=int64),\n",
       " array([0, 0, 1, 0, 0, 0, 0, 0, 0, 1, 1, 1, 1, 1, 1, 1], dtype=int64))"
      ]
     },
     "execution_count": 46,
     "metadata": {},
     "output_type": "execute_result"
    }
   ],
   "source": [
    "np.where(domain == domain[1:2])"
   ]
  },
  {
   "cell_type": "code",
   "execution_count": 47,
   "id": "e6634b51",
   "metadata": {},
   "outputs": [
    {
     "data": {
      "text/plain": [
       "array([[0.        , 0.14285714]])"
      ]
     },
     "execution_count": 47,
     "metadata": {},
     "output_type": "execute_result"
    }
   ],
   "source": [
    "domain[1:2]"
   ]
  },
  {
   "cell_type": "code",
   "execution_count": 58,
   "id": "44d7597b",
   "metadata": {},
   "outputs": [],
   "source": [
    "def index(array, item):\n",
    "    for idx, val in enumerate(array):\n",
    "        if np.allclose(val, item):\n",
    "            return idx"
   ]
  },
  {
   "cell_type": "code",
   "execution_count": 60,
   "id": "0ac654ba",
   "metadata": {},
   "outputs": [
    {
     "data": {
      "text/plain": [
       "60"
      ]
     },
     "execution_count": 60,
     "metadata": {},
     "output_type": "execute_result"
    }
   ],
   "source": [
    "index(domain, domain[60])"
   ]
  },
  {
   "cell_type": "code",
   "execution_count": null,
   "id": "38b58fe2",
   "metadata": {},
   "outputs": [],
   "source": []
  },
  {
   "cell_type": "code",
   "execution_count": 54,
   "id": "bcd75185",
   "metadata": {},
   "outputs": [
    {
     "data": {
      "text/plain": [
       "array([[0.        , 0.14285714]])"
      ]
     },
     "execution_count": 54,
     "metadata": {},
     "output_type": "execute_result"
    }
   ],
   "source": [
    "domain[1:2]"
   ]
  }
 ],
 "metadata": {
  "kernelspec": {
   "display_name": "Python 3 (ipykernel)",
   "language": "python",
   "name": "python3"
  },
  "language_info": {
   "codemirror_mode": {
    "name": "ipython",
    "version": 3
   },
   "file_extension": ".py",
   "mimetype": "text/x-python",
   "name": "python",
   "nbconvert_exporter": "python",
   "pygments_lexer": "ipython3",
   "version": "3.7.11"
  }
 },
 "nbformat": 4,
 "nbformat_minor": 5
}
